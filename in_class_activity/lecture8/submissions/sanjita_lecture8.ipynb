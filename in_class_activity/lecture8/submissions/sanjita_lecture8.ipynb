{
  "nbformat": 4,
  "nbformat_minor": 0,
  "metadata": {
    "colab": {
      "provenance": [],
      "authorship_tag": "ABX9TyMEA0EdIhmXZfJQN9NwsXH4",
      "include_colab_link": true
    },
    "kernelspec": {
      "name": "python3",
      "display_name": "Python 3"
    },
    "language_info": {
      "name": "python"
    }
  },
  "cells": [
    {
      "cell_type": "markdown",
      "metadata": {
        "id": "view-in-github",
        "colab_type": "text"
      },
      "source": [
        "<a href=\"https://colab.research.google.com/github/SanjitaPrajapati/AI4CCEE_Fall_2024/blob/main/in_class_activity/lecture8/submissions/sanjita_lecture8.ipynb\" target=\"_parent\"><img src=\"https://colab.research.google.com/assets/colab-badge.svg\" alt=\"Open In Colab\"/></a>"
      ]
    },
    {
      "cell_type": "markdown",
      "source": [
        "# Activity 1"
      ],
      "metadata": {
        "id": "jvqsuNAPc8A5"
      }
    },
    {
      "cell_type": "markdown",
      "source": [
        "1. GPS DATA TABLE\n",
        "2. LRS DATA TABLE"
      ],
      "metadata": {
        "id": "Il8-MWZqdHJo"
      }
    },
    {
      "cell_type": "markdown",
      "source": [
        "# Activity 2\n",
        "\n",
        "1. Make point feature from Point 1 : 41.948637 , -93.610065 using ST_POINT\n",
        "\n",
        "SELECT st_point(-93.610065 ,41.948637) AS point_feature;\n",
        "\n",
        "2. SELECT st_distance\n",
        "(\n",
        "    st_point(-93.610065,41.948637),\n",
        "    st_point(-93.610229,41.997339)\n",
        ")AS distance;\n",
        "\n",
        "3. WITH points as\n",
        "(\n",
        "    select\n",
        "        st_point(-93.610065,41.948637) AS A,\n",
        "        st_point(-93.610229,41.997339) AS B,\n",
        "        st_point(-93.619738,41.972017) AS C\n",
        "),\n",
        " line as\n",
        " (\n",
        "    select st_linestring(array[A,B]) as line\n",
        "    from points\n",
        " )\n",
        "\n",
        " select\n",
        "    st_distance(c,line) as distance_line\n",
        "    from line,points;\n",
        "\n",
        "4. WITH points as\n",
        "(\n",
        "    select\n",
        "        st_point(-93.610065,41.948637) AS A,\n",
        "        st_point(-93.610229,41.997339) AS B,\n",
        "        st_point(-93.619738,41.972017) AS C\n",
        "),\n",
        " line as\n",
        " (\n",
        "    select st_linestring(array[A,B]) as line\n",
        "    from points\n",
        " )\n",
        "\n",
        " select\n",
        "    st_distance(c,line)*364567 as distance_line\n",
        "    from line,points;\n"
      ],
      "metadata": {
        "id": "R8Asykv8dt0t"
      }
    },
    {
      "cell_type": "markdown",
      "source": [
        "# Activity 3\n",
        "1. Find distance from each point to all line strings in the database\n",
        "\n",
        "```\n",
        "select *, st_distance(\n",
        "                st_point(a.longitude, a.latitude),\n",
        "                st_linestring(array[\n",
        "                        st_point(b.segment_start_longitude, b.segment_start_latitude),\n",
        "                        st_point(b.segment_end_longitude,b.segment_end_latitude)])) distance from \"raghu_gps_data\"  a\n",
        "cross join (select * from \"aiml_class\".\"raghu_lrs_data\" where not segment_start_latitude = segment_end_latitude and not segment_start_longitude = segment_end_longitude)  as b\n",
        "where a.day =1 and a.hour = 1\n",
        "```\n",
        "2. Filter the nearest one for each point through a nested query\n",
        "\n",
        "```\n",
        "WITH filtered_gps AS (\n",
        "    SELECT\n",
        "        datapointid,\n",
        "        journeyid,\n",
        "        latitude AS gps_lat,\n",
        "        longitude AS gps_lon,\n",
        "        day\n",
        "    FROM\n",
        "        sanjita_gps_data\n",
        "    WHERE\n",
        "        day = 1 AND  -- Use AND instead of a comma\n",
        "        hour = 1     -- Filter for hour = 1 as well\n",
        "),\n",
        "distance_calculation AS (\n",
        "    SELECT\n",
        "        gps.datapointid,\n",
        "        gps.journeyid,\n",
        "        gps.gps_lat,\n",
        "        gps.gps_lon,\n",
        "        lrs.route_id,\n",
        "        lrs.segment_start_latitude AS start_lat,\n",
        "        lrs.segment_start_longitude AS start_lon,\n",
        "        lrs.segment_end_latitude AS end_lat,\n",
        "        lrs.segment_end_longitude AS end_lon,\n",
        "        -- Haversine formula for distance to start of segment\n",
        "        6371 * acos(\n",
        "            cos(radians(gps.gps_lat)) * cos(radians(lrs.segment_start_latitude)) *\n",
        "            cos(radians(lrs.segment_start_longitude) - radians(gps.gps_lon)) +\n",
        "            sin(radians(gps.gps_lat)) * sin(radians(lrs.segment_start_latitude))\n",
        "        ) AS distance_to_start,\n",
        "        -- Haversine formula for distance to end of segment\n",
        "        6371 * acos(\n",
        "            cos(radians(gps.gps_lat)) * cos(radians(lrs.segment_end_latitude)) *\n",
        "            cos(radians(lrs.segment_end_longitude) - radians(gps.gps_lon)) +\n",
        "            sin(radians(gps.gps_lat)) * sin(radians(lrs.segment_end_latitude))\n",
        "        ) AS distance_to_end\n",
        "    FROM\n",
        "        filtered_gps gps\n",
        "    CROSS JOIN\n",
        "        sanjita_lrs_data lrs\n",
        ")\n",
        "SELECT * FROM distance_calculation;\n",
        "```"
      ],
      "metadata": {
        "id": "PZl8Y2mogbpg"
      }
    },
    {
      "cell_type": "markdown",
      "source": [],
      "metadata": {
        "id": "qekw2jZAgbkJ"
      }
    },
    {
      "cell_type": "markdown",
      "source": [],
      "metadata": {
        "id": "fHHsXUxXgbgY"
      }
    },
    {
      "cell_type": "markdown",
      "source": [],
      "metadata": {
        "id": "wuaPfevUgbXP"
      }
    },
    {
      "cell_type": "code",
      "source": [],
      "metadata": {
        "id": "tQIIwgXQd0EB"
      },
      "execution_count": null,
      "outputs": []
    }
  ]
}
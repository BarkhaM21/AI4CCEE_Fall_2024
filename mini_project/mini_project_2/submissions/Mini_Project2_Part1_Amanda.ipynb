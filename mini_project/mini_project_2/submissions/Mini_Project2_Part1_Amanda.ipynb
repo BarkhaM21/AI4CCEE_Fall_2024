{
  "nbformat": 4,
  "nbformat_minor": 0,
  "metadata": {
    "colab": {
      "provenance": []
    },
    "kernelspec": {
      "name": "python3",
      "display_name": "Python 3"
    },
    "language_info": {
      "name": "python"
    }
  },
  "cells": [
    {
      "cell_type": "markdown",
      "source": [
        "**Aploading Data to S3**"
      ],
      "metadata": {
        "id": "6ZYBN0Mk2aY8"
      }
    },
    {
      "cell_type": "code",
      "source": [
        "# Upload data to S3\n",
        "# Upload the CV_Data to cv_data folder: s3://reactorlab/Amanda/cv_data/\n",
        "# Upload the Wavetronix Data to wavetronix_filtered folder: s3://reactorlab/Amanda/wavetronix_filtered/\n",
        "# Upload locations data to wavetronix_loations foler: s3://reactorlab/Amanda/wavetronix_locations/"
      ],
      "metadata": {
        "id": "epE-iSSJL-gA"
      },
      "execution_count": null,
      "outputs": []
    },
    {
      "cell_type": "markdown",
      "source": [
        "**Creating Tables in Athena**"
      ],
      "metadata": {
        "id": "bddbTWCM3xW_"
      }
    },
    {
      "cell_type": "code",
      "source": [
        "#  CV_Data Table\n",
        "CREATE EXTERNAL TABLE IF NOT EXISTS cv_data (\n",
        "  datapointid STRING,\n",
        "  journeyed STRING,\n",
        "  capturedtimestamp TIMESTAMP,\n",
        "  latitude DOUBLE,\n",
        "  longitude DOUBLE,\n",
        "  route_id STRING,\n",
        "  segment_start_measure DOUBLE,\n",
        "  hour INT\n",
        ")\n",
        "STORED AS PARQUET\n",
        "LOCATION 's3://reactorlab/Amanda/cv_data/';\n"
      ],
      "metadata": {
        "id": "0s8aHLIk3_mp"
      },
      "execution_count": null,
      "outputs": []
    },
    {
      "cell_type": "code",
      "execution_count": null,
      "metadata": {
        "colab": {
          "base_uri": "https://localhost:8080/"
        },
        "id": "QmbX_--BPSTy",
        "outputId": "b903197a-724a-4e55-8c44-06b7a57547b9"
      },
      "outputs": [
        {
          "output_type": "stream",
          "name": "stdout",
          "text": [
            "Requirement already satisfied: Pillow==9.5.0 in /usr/local/lib/python3.10/dist-packages (9.5.0)\n"
          ]
        }
      ],
      "source": [
        "# Create the Wavetronix table for locations\n",
        "CREATE EXTERNAL TABLE IF NOT EXISTS wavetronix (\n",
        "  device_id STRING,\n",
        "  routeid STRING,\n",
        "  latitude DOUBLE,\n",
        "  longitude DOUBLE\n",
        ")\n",
        "STORED AS PARQUET\n",
        "LOCATION 's3://reactorlab/Amanda/wavetronix_locations/';\n"
      ]
    },
    {
      "cell_type": "code",
      "source": [
        "# Create the Wavetronix table for filtered data\n",
        "CREATE EXTERNAL TABLE IF NOT EXISTS wavetronix_data (\n",
        "  device_id STRING,\n",
        "  lane_id STRING,\n",
        "  lane_count INT,\n",
        "  link_direction STRING,\n",
        "  cst_time TIMESTAMP\n",
        ")\n",
        "STORED AS PARQUET\n",
        "LOCATION 's3://reactorlab/Amanda/wavetronix_filtered/';"
      ],
      "metadata": {
        "id": "IdBtkKqgL4Qc"
      },
      "execution_count": null,
      "outputs": []
    },
    {
      "cell_type": "markdown",
      "source": [
        "**Calculating Penetration Rates**"
      ],
      "metadata": {
        "id": "SBrDIUKe5XkT"
      }
    },
    {
      "cell_type": "code",
      "source": [
        "# Consolidated Athena Query for CV and Wavetronix Data Processing with Percentage Calculation\n",
        "WITH cv_with_sensor AS (\n",
        "    SELECT\n",
        "        cv.datapointid,\n",
        "        cv.journeyid,\n",
        "        cv.capturedtimestamp,\n",
        "        cv.latitude AS cv_latitude,\n",
        "        cv.longitude AS cv_longitude,\n",
        "        cv.route_id,\n",
        "        cv.hour,\n",
        "        wl.device_id AS sensor_device_id,\n",
        "        wl.latitude AS sensor_latitude,\n",
        "        wl.longitude AS sensor_longitude,\n",
        "        -- Calculate approximate distance for proximity matching\n",
        "        sqrt(power(cv.latitude - wl.latitude, 2) + power(cv.longitude - wl.longitude, 2)) AS distance\n",
        "    FROM\n",
        "        raghu_cv_data AS cv\n",
        "    JOIN\n",
        "        raghu_wavetronix_locations AS wl\n",
        "    ON\n",
        "        cv.route_id = wl.route_id\n",
        "),\n",
        "cv_hourly_count AS (\n",
        "    SELECT\n",
        "        sensor_device_id AS device_id,\n",
        "        hour,\n",
        "        COUNT(DISTINCT journeyid) AS cv_count\n",
        "    FROM\n",
        "        cv_with_sensor\n",
        "    WHERE distance < 0.01 -- Filter by distance threshold for nearest sensor\n",
        "    GROUP BY\n",
        "        sensor_device_id, hour\n",
        "),\n",
        "wavetronix_hourly_count AS (\n",
        "    SELECT\n",
        "        device_id,\n",
        "        hour(cst_time) AS hour,\n",
        "        SUM(lane_count) AS total_vehicle_count,\n",
        "        MAX(lane_direction) AS link_direction -- Assuming one direction per device per hour\n",
        "    FROM\n",
        "        raghu_wavetronix_data\n",
        "    GROUP BY\n",
        "        device_id, hour(cst_time)\n",
        ")\n",
        "SELECT\n",
        "    cv.device_id,\n",
        "    cv.hour,\n",
        "    cv.cv_count,\n",
        "    wt.total_vehicle_count,\n",
        "    wl.latitude AS sensor_latitude,\n",
        "    wl.longitude AS sensor_longitude,\n",
        "    wt.link_direction,\n",
        "    -- Calculate proportion of CVs\n",
        "    IF(wt.total_vehicle_count > 0, CAST(cv.cv_count AS DECIMAL(10, 4)) / CAST(wt.total_vehicle_count AS DECIMAL(10, 4)), 0) AS cv_proportion,\n",
        "    -- Calculate percentage of CV proportion\n",
        "    IF(wt.total_vehicle_count > 0, (CAST(cv.cv_count AS DECIMAL(10, 3)) / CAST(wt.total_vehicle_count AS DECIMAL(10, 3))) * 100, 0) AS cv_percentage\n",
        "FROM\n",
        "    cv_hourly_count AS cv\n",
        "JOIN\n",
        "    wavetronix_hourly_count AS wt\n",
        "ON\n",
        "    cv.device_id = wt.device_id\n",
        "    AND cv.hour = wt.hour\n",
        "JOIN\n",
        "    raghu_wavetronix_locations AS wl\n",
        "ON\n",
        "    cv.device_id = wl.device_id\n",
        "ORDER BY\n",
        "    cv.device_id, cv.hour;"
      ],
      "metadata": {
        "id": "gHp9O4ybPkq4"
      },
      "execution_count": null,
      "outputs": []
    }
  ]
}
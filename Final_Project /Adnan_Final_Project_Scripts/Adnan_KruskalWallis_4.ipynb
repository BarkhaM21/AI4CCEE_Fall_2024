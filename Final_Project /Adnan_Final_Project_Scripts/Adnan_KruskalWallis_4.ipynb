{
 "cells": [
  {
   "cell_type": "code",
   "execution_count": 1,
   "id": "1baef72f-c965-4111-85e2-1626fb6a1f87",
   "metadata": {},
   "outputs": [],
   "source": [
    "from scipy.stats import kruskal"
   ]
  },
  {
   "cell_type": "code",
   "execution_count": 3,
   "id": "2adaed87-38a5-466a-91d8-fa242d957aa7",
   "metadata": {},
   "outputs": [
    {
     "name": "stdout",
     "output_type": "stream",
     "text": [
      "Kruskal-Wallis statistic: 0.5999999999999996\n",
      "P-value: 0.43857802608099994\n",
      "Fail to reject the null hypothesis: There is no significant difference between the groups.\n"
     ]
    }
   ],
   "source": [
    "# Data for each group\n",
    "adas_true = [4272, 199]  # ADAS group\n",
    "no_adas_true = [12416, 286]  # No ADAS group\n",
    "\n",
    "# Perform Kruskal-Wallis test\n",
    "stat, p = kruskal(adas_true, no_adas_true)\n",
    "\n",
    "# Display results\n",
    "print(f\"Kruskal-Wallis statistic: {stat}\")\n",
    "print(f\"P-value: {p}\")\n",
    "\n",
    "# Interpretation\n",
    "if p < 0.05:\n",
    "    print(\"Reject the null hypothesis: There is a significant difference between the groups.\")\n",
    "else:\n",
    "    print(\"Fail to reject the null hypothesis: There is no significant difference between the groups.\")\n"
   ]
  },
  {
   "cell_type": "code",
   "execution_count": null,
   "id": "99287bfa-c738-4f94-8a9b-988b129f0283",
   "metadata": {},
   "outputs": [],
   "source": []
  },
  {
   "cell_type": "code",
   "execution_count": 7,
   "id": "44527daf-ccc4-41ac-98de-6f445ae028b9",
   "metadata": {},
   "outputs": [
    {
     "data": {
      "text/plain": [
       "((0.5999999999999996, 0.43857802608099994),\n",
       " (2.3999999999999986, 0.12133525035848367))"
      ]
     },
     "execution_count": 7,
     "metadata": {},
     "output_type": "execute_result"
    }
   ],
   "source": [
    "from scipy.stats import kruskal\n",
    "\n",
    "# Data from the table for Vehicle and Environmental factors\n",
    "vehicle_factors = {\n",
    "    \"ADAS\": [53, 4418],  # True and False for ADAS\n",
    "    \"No_ADAS\": [182, 12520]  # True and False for No ADAS\n",
    "}\n",
    "\n",
    "environmental_factors = {\n",
    "    \"ADAS\": [1977, 2494],  # True and False for ADAS\n",
    "    \"No_ADAS\": [5335, 7367]  # True and False for No ADAS\n",
    "}\n",
    "\n",
    "# Perform Kruskal-Wallis test for Vehicle factors\n",
    "stat_vehicle, p_vehicle = kruskal(vehicle_factors[\"ADAS\"], vehicle_factors[\"No_ADAS\"])\n",
    "\n",
    "# Perform Kruskal-Wallis test for Environmental factors\n",
    "stat_environment, p_environment = kruskal(environmental_factors[\"ADAS\"], environmental_factors[\"No_ADAS\"])\n",
    "\n",
    "(stat_vehicle, p_vehicle), (stat_environment, p_environment)\n"
   ]
  },
  {
   "cell_type": "code",
   "execution_count": null,
   "id": "7dfedb99-c05b-4265-8629-e607e0fbba54",
   "metadata": {},
   "outputs": [],
   "source": [
    "#Interpretation: The p-value (0.44) is greater than 0.05, indicating no significant difference in vehicle-related factors between vehicles with ADAS and those without ADAS."
   ]
  },
  {
   "cell_type": "code",
   "execution_count": null,
   "id": "763ef933-6434-45e2-bb7f-7b8cf620b353",
   "metadata": {},
   "outputs": [],
   "source": [
    "#Interpretation: The p-value (0.12) is also greater than 0.05, suggesting no significant difference in environmental factors between vehicles with ADAS and those without ADAS."
   ]
  }
 ],
 "metadata": {
  "kernelspec": {
   "display_name": "Python 3 (ipykernel)",
   "language": "python",
   "name": "python3"
  },
  "language_info": {
   "codemirror_mode": {
    "name": "ipython",
    "version": 3
   },
   "file_extension": ".py",
   "mimetype": "text/x-python",
   "name": "python",
   "nbconvert_exporter": "python",
   "pygments_lexer": "ipython3",
   "version": "3.11.7"
  }
 },
 "nbformat": 4,
 "nbformat_minor": 5
}

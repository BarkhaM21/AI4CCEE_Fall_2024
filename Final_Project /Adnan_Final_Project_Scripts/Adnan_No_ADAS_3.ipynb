{
 "cells": [
  {
   "cell_type": "code",
   "execution_count": 1,
   "id": "5635dc98-8cb0-4a8f-b17e-b173c50edb4c",
   "metadata": {},
   "outputs": [],
   "source": [
    "import pandas as pd"
   ]
  },
  {
   "cell_type": "code",
   "execution_count": 2,
   "id": "9ed86b27-932d-4359-9c5b-7e5c6a905c94",
   "metadata": {},
   "outputs": [],
   "source": [
    "adas_data = pd.read_csv('DataNew/adas.csv',encoding='cp1252')"
   ]
  },
  {
   "cell_type": "code",
   "execution_count": 3,
   "id": "d8a59a5c-6290-47d0-9afb-1eaed5409d9e",
   "metadata": {},
   "outputs": [],
   "source": [
    "no_adas_data = pd.read_csv('DataNew/no_adas.csv',encoding='cp1252')"
   ]
  },
  {
   "cell_type": "code",
   "execution_count": 4,
   "id": "294198c6-42db-4735-aea4-fc86808365c9",
   "metadata": {},
   "outputs": [],
   "source": [
    "df_all = pd.read_csv('DataNew/Mergedata.csv',encoding='cp1252')"
   ]
  },
  {
   "cell_type": "code",
   "execution_count": 5,
   "id": "314b9093-ea38-4f8d-b2cf-e1ed5ead3c14",
   "metadata": {},
   "outputs": [],
   "source": [
    "df_all = df_all.drop(columns=['VEHNO'], errors='ignore')"
   ]
  },
  {
   "cell_type": "code",
   "execution_count": 6,
   "id": "3a4f7797-e734-47ce-82cc-ed08a74f67e4",
   "metadata": {},
   "outputs": [
    {
     "data": {
      "text/plain": [
       "(4472, 8)"
      ]
     },
     "execution_count": 6,
     "metadata": {},
     "output_type": "execute_result"
    }
   ],
   "source": [
    "adas_data.shape"
   ]
  },
  {
   "cell_type": "code",
   "execution_count": 7,
   "id": "7cfd6d8f-d926-498a-b2b2-4776073ad922",
   "metadata": {},
   "outputs": [
    {
     "data": {
      "text/plain": [
       "(12710, 8)"
      ]
     },
     "execution_count": 7,
     "metadata": {},
     "output_type": "execute_result"
    }
   ],
   "source": [
    "no_adas_data.shape"
   ]
  },
  {
   "cell_type": "code",
   "execution_count": 8,
   "id": "65075fd7-9bd6-4676-b235-0016e54791c9",
   "metadata": {},
   "outputs": [
    {
     "data": {
      "text/plain": [
       "(9951, 145)"
      ]
     },
     "execution_count": 8,
     "metadata": {},
     "output_type": "execute_result"
    }
   ],
   "source": [
    "df_all.shape"
   ]
  },
  {
   "cell_type": "code",
   "execution_count": 9,
   "id": "46c980a2-0d4a-4eb8-9c44-b110659db136",
   "metadata": {},
   "outputs": [
    {
     "data": {
      "text/html": [
       "<div>\n",
       "<style scoped>\n",
       "    .dataframe tbody tr th:only-of-type {\n",
       "        vertical-align: middle;\n",
       "    }\n",
       "\n",
       "    .dataframe tbody tr th {\n",
       "        vertical-align: top;\n",
       "    }\n",
       "\n",
       "    .dataframe thead th {\n",
       "        text-align: right;\n",
       "    }\n",
       "</style>\n",
       "<table border=\"1\" class=\"dataframe\">\n",
       "  <thead>\n",
       "    <tr style=\"text-align: right;\">\n",
       "      <th></th>\n",
       "      <th>Unnamed: 0_x</th>\n",
       "      <th>CASEID</th>\n",
       "      <th>VEHNO</th>\n",
       "      <th>VehicleType</th>\n",
       "      <th>Make</th>\n",
       "      <th>Model</th>\n",
       "      <th>ModelYear</th>\n",
       "      <th>ADAS</th>\n",
       "      <th>Unnamed: 0_y</th>\n",
       "      <th>CASEWGT</th>\n",
       "      <th>...</th>\n",
       "      <th>WEATHER_8.0</th>\n",
       "      <th>WEATHER_9.0</th>\n",
       "      <th>WEATHER_10.0</th>\n",
       "      <th>WEATHER_98.0</th>\n",
       "      <th>WEATHER_99.0</th>\n",
       "      <th>DISTRACT_0.0</th>\n",
       "      <th>DISTRACT_1.0</th>\n",
       "      <th>DISTRACT_2.0</th>\n",
       "      <th>DISTRACT_3.0</th>\n",
       "      <th>DISTRACT_9.0</th>\n",
       "    </tr>\n",
       "  </thead>\n",
       "  <tbody>\n",
       "    <tr>\n",
       "      <th>0</th>\n",
       "      <td>12</td>\n",
       "      <td>16083</td>\n",
       "      <td>2</td>\n",
       "      <td>MULTIPURPOSE PASSENGER VEHICLE (MPV)</td>\n",
       "      <td>LEXUS</td>\n",
       "      <td>RX</td>\n",
       "      <td>2018</td>\n",
       "      <td>1</td>\n",
       "      <td>94</td>\n",
       "      <td>427</td>\n",
       "      <td>...</td>\n",
       "      <td>0.0</td>\n",
       "      <td>0.0</td>\n",
       "      <td>0.0</td>\n",
       "      <td>0.0</td>\n",
       "      <td>0.0</td>\n",
       "      <td>0.0</td>\n",
       "      <td>1.0</td>\n",
       "      <td>0.0</td>\n",
       "      <td>0.0</td>\n",
       "      <td>1.0</td>\n",
       "    </tr>\n",
       "    <tr>\n",
       "      <th>1</th>\n",
       "      <td>15</td>\n",
       "      <td>16086</td>\n",
       "      <td>1</td>\n",
       "      <td>PASSENGER CAR</td>\n",
       "      <td>HONDA</td>\n",
       "      <td>Civic</td>\n",
       "      <td>2017</td>\n",
       "      <td>1</td>\n",
       "      <td>4719</td>\n",
       "      <td>109</td>\n",
       "      <td>...</td>\n",
       "      <td>0.0</td>\n",
       "      <td>0.0</td>\n",
       "      <td>0.0</td>\n",
       "      <td>0.0</td>\n",
       "      <td>0.0</td>\n",
       "      <td>0.0</td>\n",
       "      <td>1.0</td>\n",
       "      <td>0.0</td>\n",
       "      <td>0.0</td>\n",
       "      <td>0.0</td>\n",
       "    </tr>\n",
       "    <tr>\n",
       "      <th>2</th>\n",
       "      <td>16</td>\n",
       "      <td>16086</td>\n",
       "      <td>2</td>\n",
       "      <td>MULTIPURPOSE PASSENGER VEHICLE (MPV)</td>\n",
       "      <td>TOYOTA</td>\n",
       "      <td>RAV4</td>\n",
       "      <td>2019</td>\n",
       "      <td>1</td>\n",
       "      <td>4719</td>\n",
       "      <td>109</td>\n",
       "      <td>...</td>\n",
       "      <td>0.0</td>\n",
       "      <td>0.0</td>\n",
       "      <td>0.0</td>\n",
       "      <td>0.0</td>\n",
       "      <td>0.0</td>\n",
       "      <td>0.0</td>\n",
       "      <td>1.0</td>\n",
       "      <td>0.0</td>\n",
       "      <td>0.0</td>\n",
       "      <td>0.0</td>\n",
       "    </tr>\n",
       "    <tr>\n",
       "      <th>3</th>\n",
       "      <td>38</td>\n",
       "      <td>16059</td>\n",
       "      <td>3</td>\n",
       "      <td>MULTIPURPOSE PASSENGER VEHICLE (MPV)</td>\n",
       "      <td>FORD</td>\n",
       "      <td>Escape</td>\n",
       "      <td>2017</td>\n",
       "      <td>1</td>\n",
       "      <td>66</td>\n",
       "      <td>502</td>\n",
       "      <td>...</td>\n",
       "      <td>0.0</td>\n",
       "      <td>0.0</td>\n",
       "      <td>0.0</td>\n",
       "      <td>0.0</td>\n",
       "      <td>0.0</td>\n",
       "      <td>0.0</td>\n",
       "      <td>1.0</td>\n",
       "      <td>0.0</td>\n",
       "      <td>0.0</td>\n",
       "      <td>0.0</td>\n",
       "    </tr>\n",
       "    <tr>\n",
       "      <th>4</th>\n",
       "      <td>45</td>\n",
       "      <td>16274</td>\n",
       "      <td>1</td>\n",
       "      <td>MULTIPURPOSE PASSENGER VEHICLE (MPV)</td>\n",
       "      <td>JEEP</td>\n",
       "      <td>Renegade</td>\n",
       "      <td>2018</td>\n",
       "      <td>1</td>\n",
       "      <td>3622</td>\n",
       "      <td>41</td>\n",
       "      <td>...</td>\n",
       "      <td>1.0</td>\n",
       "      <td>0.0</td>\n",
       "      <td>0.0</td>\n",
       "      <td>0.0</td>\n",
       "      <td>0.0</td>\n",
       "      <td>0.0</td>\n",
       "      <td>0.0</td>\n",
       "      <td>0.0</td>\n",
       "      <td>1.0</td>\n",
       "      <td>1.0</td>\n",
       "    </tr>\n",
       "  </tbody>\n",
       "</table>\n",
       "<p>5 rows × 152 columns</p>\n",
       "</div>"
      ],
      "text/plain": [
       "   Unnamed: 0_x  CASEID  VEHNO                           VehicleType    Make  \\\n",
       "0            12   16083      2  MULTIPURPOSE PASSENGER VEHICLE (MPV)   LEXUS   \n",
       "1            15   16086      1                         PASSENGER CAR   HONDA   \n",
       "2            16   16086      2  MULTIPURPOSE PASSENGER VEHICLE (MPV)  TOYOTA   \n",
       "3            38   16059      3  MULTIPURPOSE PASSENGER VEHICLE (MPV)    FORD   \n",
       "4            45   16274      1  MULTIPURPOSE PASSENGER VEHICLE (MPV)    JEEP   \n",
       "\n",
       "      Model  ModelYear  ADAS  Unnamed: 0_y  CASEWGT  ...  WEATHER_8.0  \\\n",
       "0        RX       2018     1            94      427  ...          0.0   \n",
       "1     Civic       2017     1          4719      109  ...          0.0   \n",
       "2      RAV4       2019     1          4719      109  ...          0.0   \n",
       "3    Escape       2017     1            66      502  ...          0.0   \n",
       "4  Renegade       2018     1          3622       41  ...          1.0   \n",
       "\n",
       "   WEATHER_9.0  WEATHER_10.0  WEATHER_98.0  WEATHER_99.0  DISTRACT_0.0  \\\n",
       "0          0.0           0.0           0.0           0.0           0.0   \n",
       "1          0.0           0.0           0.0           0.0           0.0   \n",
       "2          0.0           0.0           0.0           0.0           0.0   \n",
       "3          0.0           0.0           0.0           0.0           0.0   \n",
       "4          0.0           0.0           0.0           0.0           0.0   \n",
       "\n",
       "   DISTRACT_1.0  DISTRACT_2.0  DISTRACT_3.0  DISTRACT_9.0  \n",
       "0           1.0           0.0           0.0           1.0  \n",
       "1           1.0           0.0           0.0           0.0  \n",
       "2           1.0           0.0           0.0           0.0  \n",
       "3           1.0           0.0           0.0           0.0  \n",
       "4           0.0           0.0           1.0           1.0  \n",
       "\n",
       "[5 rows x 152 columns]"
      ]
     },
     "execution_count": 9,
     "metadata": {},
     "output_type": "execute_result"
    }
   ],
   "source": [
    "dfad = pd.merge(adas_data, df_all, how=\"inner\", on=\"CASEID\")\n",
    "dfad.head()"
   ]
  },
  {
   "cell_type": "code",
   "execution_count": 10,
   "id": "c71dcae7-bd08-4a87-a22a-1c2f6c5d6b41",
   "metadata": {},
   "outputs": [
    {
     "data": {
      "text/html": [
       "<div>\n",
       "<style scoped>\n",
       "    .dataframe tbody tr th:only-of-type {\n",
       "        vertical-align: middle;\n",
       "    }\n",
       "\n",
       "    .dataframe tbody tr th {\n",
       "        vertical-align: top;\n",
       "    }\n",
       "\n",
       "    .dataframe thead th {\n",
       "        text-align: right;\n",
       "    }\n",
       "</style>\n",
       "<table border=\"1\" class=\"dataframe\">\n",
       "  <thead>\n",
       "    <tr style=\"text-align: right;\">\n",
       "      <th></th>\n",
       "      <th>Unnamed: 0_x</th>\n",
       "      <th>CASEID</th>\n",
       "      <th>VEHNO</th>\n",
       "      <th>VehicleType</th>\n",
       "      <th>Make</th>\n",
       "      <th>Model</th>\n",
       "      <th>ModelYear</th>\n",
       "      <th>ADAS</th>\n",
       "      <th>Unnamed: 0_y</th>\n",
       "      <th>CASEWGT</th>\n",
       "      <th>...</th>\n",
       "      <th>WEATHER_8.0</th>\n",
       "      <th>WEATHER_9.0</th>\n",
       "      <th>WEATHER_10.0</th>\n",
       "      <th>WEATHER_98.0</th>\n",
       "      <th>WEATHER_99.0</th>\n",
       "      <th>DISTRACT_0.0</th>\n",
       "      <th>DISTRACT_1.0</th>\n",
       "      <th>DISTRACT_2.0</th>\n",
       "      <th>DISTRACT_3.0</th>\n",
       "      <th>DISTRACT_9.0</th>\n",
       "    </tr>\n",
       "  </thead>\n",
       "  <tbody>\n",
       "    <tr>\n",
       "      <th>0</th>\n",
       "      <td>0</td>\n",
       "      <td>16035</td>\n",
       "      <td>1</td>\n",
       "      <td>MULTIPURPOSE PASSENGER VEHICLE (MPV)</td>\n",
       "      <td>FORD</td>\n",
       "      <td>Flex</td>\n",
       "      <td>2010</td>\n",
       "      <td>0</td>\n",
       "      <td>381</td>\n",
       "      <td>64</td>\n",
       "      <td>...</td>\n",
       "      <td>0.0</td>\n",
       "      <td>0.0</td>\n",
       "      <td>0.0</td>\n",
       "      <td>0.0</td>\n",
       "      <td>0.0</td>\n",
       "      <td>0.0</td>\n",
       "      <td>0.0</td>\n",
       "      <td>0.0</td>\n",
       "      <td>1.0</td>\n",
       "      <td>1.0</td>\n",
       "    </tr>\n",
       "    <tr>\n",
       "      <th>1</th>\n",
       "      <td>1</td>\n",
       "      <td>16035</td>\n",
       "      <td>2</td>\n",
       "      <td>TRUCK</td>\n",
       "      <td>TOYOTA</td>\n",
       "      <td>Tacoma</td>\n",
       "      <td>2012</td>\n",
       "      <td>0</td>\n",
       "      <td>381</td>\n",
       "      <td>64</td>\n",
       "      <td>...</td>\n",
       "      <td>0.0</td>\n",
       "      <td>0.0</td>\n",
       "      <td>0.0</td>\n",
       "      <td>0.0</td>\n",
       "      <td>0.0</td>\n",
       "      <td>0.0</td>\n",
       "      <td>0.0</td>\n",
       "      <td>0.0</td>\n",
       "      <td>1.0</td>\n",
       "      <td>1.0</td>\n",
       "    </tr>\n",
       "    <tr>\n",
       "      <th>2</th>\n",
       "      <td>2</td>\n",
       "      <td>16037</td>\n",
       "      <td>1</td>\n",
       "      <td>TRUCK</td>\n",
       "      <td>CHEVROLET</td>\n",
       "      <td>Silverado</td>\n",
       "      <td>2005</td>\n",
       "      <td>0</td>\n",
       "      <td>6557</td>\n",
       "      <td>3758</td>\n",
       "      <td>...</td>\n",
       "      <td>0.0</td>\n",
       "      <td>0.0</td>\n",
       "      <td>0.0</td>\n",
       "      <td>0.0</td>\n",
       "      <td>0.0</td>\n",
       "      <td>0.0</td>\n",
       "      <td>0.0</td>\n",
       "      <td>0.0</td>\n",
       "      <td>0.0</td>\n",
       "      <td>1.0</td>\n",
       "    </tr>\n",
       "    <tr>\n",
       "      <th>3</th>\n",
       "      <td>3</td>\n",
       "      <td>16038</td>\n",
       "      <td>1</td>\n",
       "      <td>PASSENGER CAR</td>\n",
       "      <td>BUICK</td>\n",
       "      <td>Century</td>\n",
       "      <td>2003</td>\n",
       "      <td>0</td>\n",
       "      <td>45</td>\n",
       "      <td>2592</td>\n",
       "      <td>...</td>\n",
       "      <td>0.0</td>\n",
       "      <td>0.0</td>\n",
       "      <td>0.0</td>\n",
       "      <td>0.0</td>\n",
       "      <td>0.0</td>\n",
       "      <td>0.0</td>\n",
       "      <td>1.0</td>\n",
       "      <td>0.0</td>\n",
       "      <td>0.0</td>\n",
       "      <td>0.0</td>\n",
       "    </tr>\n",
       "    <tr>\n",
       "      <th>4</th>\n",
       "      <td>4</td>\n",
       "      <td>16038</td>\n",
       "      <td>2</td>\n",
       "      <td>PASSENGER CAR</td>\n",
       "      <td>CHEVROLET</td>\n",
       "      <td>Impala</td>\n",
       "      <td>2009</td>\n",
       "      <td>0</td>\n",
       "      <td>45</td>\n",
       "      <td>2592</td>\n",
       "      <td>...</td>\n",
       "      <td>0.0</td>\n",
       "      <td>0.0</td>\n",
       "      <td>0.0</td>\n",
       "      <td>0.0</td>\n",
       "      <td>0.0</td>\n",
       "      <td>0.0</td>\n",
       "      <td>1.0</td>\n",
       "      <td>0.0</td>\n",
       "      <td>0.0</td>\n",
       "      <td>0.0</td>\n",
       "    </tr>\n",
       "  </tbody>\n",
       "</table>\n",
       "<p>5 rows × 152 columns</p>\n",
       "</div>"
      ],
      "text/plain": [
       "   Unnamed: 0_x  CASEID  VEHNO                           VehicleType  \\\n",
       "0             0   16035      1  MULTIPURPOSE PASSENGER VEHICLE (MPV)   \n",
       "1             1   16035      2                                 TRUCK   \n",
       "2             2   16037      1                                 TRUCK   \n",
       "3             3   16038      1                         PASSENGER CAR   \n",
       "4             4   16038      2                         PASSENGER CAR   \n",
       "\n",
       "        Make      Model  ModelYear  ADAS  Unnamed: 0_y  CASEWGT  ...  \\\n",
       "0       FORD       Flex       2010     0           381       64  ...   \n",
       "1     TOYOTA     Tacoma       2012     0           381       64  ...   \n",
       "2  CHEVROLET  Silverado       2005     0          6557     3758  ...   \n",
       "3      BUICK    Century       2003     0            45     2592  ...   \n",
       "4  CHEVROLET     Impala       2009     0            45     2592  ...   \n",
       "\n",
       "   WEATHER_8.0  WEATHER_9.0  WEATHER_10.0  WEATHER_98.0  WEATHER_99.0  \\\n",
       "0          0.0          0.0           0.0           0.0           0.0   \n",
       "1          0.0          0.0           0.0           0.0           0.0   \n",
       "2          0.0          0.0           0.0           0.0           0.0   \n",
       "3          0.0          0.0           0.0           0.0           0.0   \n",
       "4          0.0          0.0           0.0           0.0           0.0   \n",
       "\n",
       "   DISTRACT_0.0  DISTRACT_1.0  DISTRACT_2.0  DISTRACT_3.0  DISTRACT_9.0  \n",
       "0           0.0           0.0           0.0           1.0           1.0  \n",
       "1           0.0           0.0           0.0           1.0           1.0  \n",
       "2           0.0           0.0           0.0           0.0           1.0  \n",
       "3           0.0           1.0           0.0           0.0           0.0  \n",
       "4           0.0           1.0           0.0           0.0           0.0  \n",
       "\n",
       "[5 rows x 152 columns]"
      ]
     },
     "execution_count": 10,
     "metadata": {},
     "output_type": "execute_result"
    }
   ],
   "source": [
    "dfnad = pd.merge(no_adas_data, df_all, how=\"inner\", on=\"CASEID\")\n",
    "dfnad.head()"
   ]
  },
  {
   "cell_type": "code",
   "execution_count": 11,
   "id": "b7ded632-2232-4ade-aa1a-b73f0d59a83f",
   "metadata": {},
   "outputs": [],
   "source": [
    "#Driver Error (ADAS)"
   ]
  },
  {
   "cell_type": "code",
   "execution_count": 12,
   "id": "a08e98e1-f7de-47c8-9ac5-891fafa651e7",
   "metadata": {},
   "outputs": [
    {
     "data": {
      "text/html": [
       "<div>\n",
       "<style scoped>\n",
       "    .dataframe tbody tr th:only-of-type {\n",
       "        vertical-align: middle;\n",
       "    }\n",
       "\n",
       "    .dataframe tbody tr th {\n",
       "        vertical-align: top;\n",
       "    }\n",
       "\n",
       "    .dataframe thead th {\n",
       "        text-align: right;\n",
       "    }\n",
       "</style>\n",
       "<table border=\"1\" class=\"dataframe\">\n",
       "  <thead>\n",
       "    <tr style=\"text-align: right;\">\n",
       "      <th></th>\n",
       "      <th>DISTRACTN_1</th>\n",
       "      <th>DISTRACTN_2</th>\n",
       "      <th>DISTRACTN_3</th>\n",
       "      <th>DISTRACTN_4</th>\n",
       "      <th>DISTRACTN_5</th>\n",
       "      <th>DISTRACTN_6</th>\n",
       "      <th>DISTRACTN_7</th>\n",
       "      <th>DISTRACTN_8</th>\n",
       "      <th>DISTRACTN_9</th>\n",
       "      <th>DISTRACTN_10</th>\n",
       "      <th>...</th>\n",
       "      <th>CRITEVENT_80.0</th>\n",
       "      <th>CRITEVENT_81.0</th>\n",
       "      <th>CRITEVENT_83.0</th>\n",
       "      <th>PRELOC_2.0</th>\n",
       "      <th>PRELOC_4.0</th>\n",
       "      <th>PRELOC_6.0</th>\n",
       "      <th>PRELOC_7.0</th>\n",
       "      <th>OBJCONT_77</th>\n",
       "      <th>OBJCONT_78</th>\n",
       "      <th>DE</th>\n",
       "    </tr>\n",
       "  </thead>\n",
       "  <tbody>\n",
       "    <tr>\n",
       "      <th>0</th>\n",
       "      <td>0.0</td>\n",
       "      <td>1.0</td>\n",
       "      <td>0.0</td>\n",
       "      <td>0.0</td>\n",
       "      <td>0.0</td>\n",
       "      <td>0.0</td>\n",
       "      <td>0.0</td>\n",
       "      <td>0.0</td>\n",
       "      <td>0.0</td>\n",
       "      <td>0.0</td>\n",
       "      <td>...</td>\n",
       "      <td>0.0</td>\n",
       "      <td>0.0</td>\n",
       "      <td>0.0</td>\n",
       "      <td>0.0</td>\n",
       "      <td>0.0</td>\n",
       "      <td>0.0</td>\n",
       "      <td>0.0</td>\n",
       "      <td>NaN</td>\n",
       "      <td>NaN</td>\n",
       "      <td>True</td>\n",
       "    </tr>\n",
       "    <tr>\n",
       "      <th>1</th>\n",
       "      <td>0.0</td>\n",
       "      <td>1.0</td>\n",
       "      <td>0.0</td>\n",
       "      <td>0.0</td>\n",
       "      <td>0.0</td>\n",
       "      <td>0.0</td>\n",
       "      <td>0.0</td>\n",
       "      <td>0.0</td>\n",
       "      <td>0.0</td>\n",
       "      <td>0.0</td>\n",
       "      <td>...</td>\n",
       "      <td>0.0</td>\n",
       "      <td>0.0</td>\n",
       "      <td>0.0</td>\n",
       "      <td>0.0</td>\n",
       "      <td>0.0</td>\n",
       "      <td>0.0</td>\n",
       "      <td>0.0</td>\n",
       "      <td>NaN</td>\n",
       "      <td>NaN</td>\n",
       "      <td>True</td>\n",
       "    </tr>\n",
       "    <tr>\n",
       "      <th>2</th>\n",
       "      <td>NaN</td>\n",
       "      <td>NaN</td>\n",
       "      <td>NaN</td>\n",
       "      <td>NaN</td>\n",
       "      <td>NaN</td>\n",
       "      <td>NaN</td>\n",
       "      <td>NaN</td>\n",
       "      <td>NaN</td>\n",
       "      <td>NaN</td>\n",
       "      <td>NaN</td>\n",
       "      <td>...</td>\n",
       "      <td>0.0</td>\n",
       "      <td>0.0</td>\n",
       "      <td>0.0</td>\n",
       "      <td>0.0</td>\n",
       "      <td>1.0</td>\n",
       "      <td>0.0</td>\n",
       "      <td>0.0</td>\n",
       "      <td>0.0</td>\n",
       "      <td>0.0</td>\n",
       "      <td>True</td>\n",
       "    </tr>\n",
       "    <tr>\n",
       "      <th>3</th>\n",
       "      <td>NaN</td>\n",
       "      <td>NaN</td>\n",
       "      <td>NaN</td>\n",
       "      <td>NaN</td>\n",
       "      <td>NaN</td>\n",
       "      <td>NaN</td>\n",
       "      <td>NaN</td>\n",
       "      <td>NaN</td>\n",
       "      <td>NaN</td>\n",
       "      <td>NaN</td>\n",
       "      <td>...</td>\n",
       "      <td>0.0</td>\n",
       "      <td>0.0</td>\n",
       "      <td>0.0</td>\n",
       "      <td>0.0</td>\n",
       "      <td>0.0</td>\n",
       "      <td>0.0</td>\n",
       "      <td>0.0</td>\n",
       "      <td>NaN</td>\n",
       "      <td>NaN</td>\n",
       "      <td>True</td>\n",
       "    </tr>\n",
       "    <tr>\n",
       "      <th>4</th>\n",
       "      <td>NaN</td>\n",
       "      <td>NaN</td>\n",
       "      <td>NaN</td>\n",
       "      <td>NaN</td>\n",
       "      <td>NaN</td>\n",
       "      <td>NaN</td>\n",
       "      <td>NaN</td>\n",
       "      <td>NaN</td>\n",
       "      <td>NaN</td>\n",
       "      <td>NaN</td>\n",
       "      <td>...</td>\n",
       "      <td>0.0</td>\n",
       "      <td>0.0</td>\n",
       "      <td>0.0</td>\n",
       "      <td>0.0</td>\n",
       "      <td>0.0</td>\n",
       "      <td>0.0</td>\n",
       "      <td>0.0</td>\n",
       "      <td>NaN</td>\n",
       "      <td>NaN</td>\n",
       "      <td>True</td>\n",
       "    </tr>\n",
       "  </tbody>\n",
       "</table>\n",
       "<p>5 rows × 58 columns</p>\n",
       "</div>"
      ],
      "text/plain": [
       "   DISTRACTN_1  DISTRACTN_2  DISTRACTN_3  DISTRACTN_4  DISTRACTN_5  \\\n",
       "0          0.0          1.0          0.0          0.0          0.0   \n",
       "1          0.0          1.0          0.0          0.0          0.0   \n",
       "2          NaN          NaN          NaN          NaN          NaN   \n",
       "3          NaN          NaN          NaN          NaN          NaN   \n",
       "4          NaN          NaN          NaN          NaN          NaN   \n",
       "\n",
       "   DISTRACTN_6  DISTRACTN_7  DISTRACTN_8  DISTRACTN_9  DISTRACTN_10  ...  \\\n",
       "0          0.0          0.0          0.0          0.0           0.0  ...   \n",
       "1          0.0          0.0          0.0          0.0           0.0  ...   \n",
       "2          NaN          NaN          NaN          NaN           NaN  ...   \n",
       "3          NaN          NaN          NaN          NaN           NaN  ...   \n",
       "4          NaN          NaN          NaN          NaN           NaN  ...   \n",
       "\n",
       "   CRITEVENT_80.0  CRITEVENT_81.0  CRITEVENT_83.0  PRELOC_2.0  PRELOC_4.0  \\\n",
       "0             0.0             0.0             0.0         0.0         0.0   \n",
       "1             0.0             0.0             0.0         0.0         0.0   \n",
       "2             0.0             0.0             0.0         0.0         1.0   \n",
       "3             0.0             0.0             0.0         0.0         0.0   \n",
       "4             0.0             0.0             0.0         0.0         0.0   \n",
       "\n",
       "   PRELOC_6.0  PRELOC_7.0  OBJCONT_77  OBJCONT_78    DE  \n",
       "0         0.0         0.0         NaN         NaN  True  \n",
       "1         0.0         0.0         NaN         NaN  True  \n",
       "2         0.0         0.0         0.0         0.0  True  \n",
       "3         0.0         0.0         NaN         NaN  True  \n",
       "4         0.0         0.0         NaN         NaN  True  \n",
       "\n",
       "[5 rows x 58 columns]"
      ]
     },
     "execution_count": 12,
     "metadata": {},
     "output_type": "execute_result"
    }
   ],
   "source": [
    "cols=[\"DISTRACTN_1\",\\\n",
    "    \"DISTRACTN_2\",\"DISTRACTN_3\",\"DISTRACTN_4\",\"DISTRACTN_5\",\"DISTRACTN_6\",\"DISTRACTN_7\",\\\n",
    "     \"DISTRACTN_8\",\"DISTRACTN_9\",\"DISTRACTN_10\",\"DISTRACTN_99\",\"DISTRACT_2.0\",\"DISTRACT_3.0\",\"CRITEVENT_6.0\",\\\n",
    "    \"CRITEVENT_8.0\",\"CRITEVENT_10.0\",\"CRITEVENT_11.0\",\"CRITEVENT_12.0\",\"CRITEVENT_13.0\",\"CRITEVENT_15.0\"\\\n",
    "     ,\"CRITEVENT_16.0\",\"CRITEVENT_17.0\",\"CRITEVENT_18.0\",\"CRITEVENT_19.0\",\"CRITEVENT_20.0\",\"CRITEVENT_21.0\",\\\n",
    "    \"CRITEVENT_51.0\",\"CRITEVENT_52.0\",\"CRITEVENT_53.0\",\"CRITEVENT_54.0\"\\\n",
    "    ,\"CRITEVENT_55.0\",\"CRITEVENT_56.0\",\"CRITEVENT_59.0\",\"CRITEVENT_60.0\",\"CRITEVENT_61.0\",\"CRITEVENT_62.0\",\"CRITEVENT_63.0\",\"CRITEVENT_64.0\"\\\n",
    "     ,\"CRITEVENT_65.0\",\"CRITEVENT_66.0\",\"CRITEVENT_67.0\",\"CRITEVENT_68.0\",\"CRITEVENT_70.0\",\"CRITEVENT_71.0\",\"CRITEVENT_72.0\",\"CRITEVENT_73.0\",\"CRITEVENT_74.0\",\"CRITEVENT_78.0\",\"CRITEVENT_80.0\",\"CRITEVENT_81.0\"\\\n",
    "     ,\"CRITEVENT_83.0\",\"PRELOC_2.0\",\"PRELOC_4.0\",\"PRELOC_6.0\",\"PRELOC_7.0\",\"OBJCONT_77\",\"OBJCONT_78\"]\n",
    "dfde=dfnad[cols].copy()\n",
    "dfde[\"DE\"]=dfde.any(axis=\"columns\")\n",
    "dfde.head()"
   ]
  },
  {
   "cell_type": "code",
   "execution_count": 13,
   "id": "fb2e23b8-c11b-4501-9dfc-9ecc9fbc0721",
   "metadata": {},
   "outputs": [
    {
     "data": {
      "text/plain": [
       "DE\n",
       "True     12409\n",
       "False      293\n",
       "Name: count, dtype: int64"
      ]
     },
     "execution_count": 13,
     "metadata": {},
     "output_type": "execute_result"
    }
   ],
   "source": [
    "dfde['DE'].value_counts()"
   ]
  },
  {
   "cell_type": "code",
   "execution_count": 14,
   "id": "7b4430ac-e344-486b-b0f0-91dc45cd85b9",
   "metadata": {},
   "outputs": [
    {
     "data": {
      "text/html": [
       "<div>\n",
       "<style scoped>\n",
       "    .dataframe tbody tr th:only-of-type {\n",
       "        vertical-align: middle;\n",
       "    }\n",
       "\n",
       "    .dataframe tbody tr th {\n",
       "        vertical-align: top;\n",
       "    }\n",
       "\n",
       "    .dataframe thead th {\n",
       "        text-align: right;\n",
       "    }\n",
       "</style>\n",
       "<table border=\"1\" class=\"dataframe\">\n",
       "  <thead>\n",
       "    <tr style=\"text-align: right;\">\n",
       "      <th></th>\n",
       "      <th>ypc</th>\n",
       "      <th>combwgt</th>\n",
       "      <th>de</th>\n",
       "    </tr>\n",
       "  </thead>\n",
       "  <tbody>\n",
       "    <tr>\n",
       "      <th>0</th>\n",
       "      <td>16035</td>\n",
       "      <td>64</td>\n",
       "      <td>1</td>\n",
       "    </tr>\n",
       "    <tr>\n",
       "      <th>1</th>\n",
       "      <td>16035</td>\n",
       "      <td>64</td>\n",
       "      <td>1</td>\n",
       "    </tr>\n",
       "    <tr>\n",
       "      <th>2</th>\n",
       "      <td>16037</td>\n",
       "      <td>3758</td>\n",
       "      <td>1</td>\n",
       "    </tr>\n",
       "    <tr>\n",
       "      <th>3</th>\n",
       "      <td>16038</td>\n",
       "      <td>2592</td>\n",
       "      <td>1</td>\n",
       "    </tr>\n",
       "    <tr>\n",
       "      <th>4</th>\n",
       "      <td>16038</td>\n",
       "      <td>2592</td>\n",
       "      <td>1</td>\n",
       "    </tr>\n",
       "  </tbody>\n",
       "</table>\n",
       "</div>"
      ],
      "text/plain": [
       "     ypc  combwgt  de\n",
       "0  16035       64   1\n",
       "1  16035       64   1\n",
       "2  16037     3758   1\n",
       "3  16038     2592   1\n",
       "4  16038     2592   1"
      ]
     },
     "execution_count": 14,
     "metadata": {},
     "output_type": "execute_result"
    }
   ],
   "source": [
    "data=[dfnad[\"CASEID\"],dfnad['CASEWGT'],dfde[\"DE\"]]\n",
    "headers=[\"ypc\",\"combwgt\",\"de\"]\n",
    "dffinal=pd.concat(data,axis=1, keys=headers)\n",
    "dffinal[\"de\"]=dffinal[\"de\"].astype(int)\n",
    "dffinal.head()"
   ]
  },
  {
   "cell_type": "code",
   "execution_count": 15,
   "id": "b50a33a3-fddf-492b-bd95-5bb5c5e9c100",
   "metadata": {},
   "outputs": [],
   "source": [
    "dfde.to_csv(\"DataNew/DE1.csv\")"
   ]
  },
  {
   "cell_type": "code",
   "execution_count": 16,
   "id": "d7fe76d1-42d6-43c0-a8c0-6ec344cebbec",
   "metadata": {},
   "outputs": [
    {
     "data": {
      "text/plain": [
       "(12702, 58)"
      ]
     },
     "execution_count": 16,
     "metadata": {},
     "output_type": "execute_result"
    }
   ],
   "source": [
    "dfde.shape"
   ]
  },
  {
   "cell_type": "code",
   "execution_count": 17,
   "id": "90bd124d-b617-434e-9017-efc0c9cd97da",
   "metadata": {},
   "outputs": [],
   "source": [
    "#Human Factors"
   ]
  },
  {
   "cell_type": "code",
   "execution_count": 18,
   "id": "45d675e8-5aca-4bed-af37-b3264ed59821",
   "metadata": {},
   "outputs": [
    {
     "data": {
      "text/html": [
       "<div>\n",
       "<style scoped>\n",
       "    .dataframe tbody tr th:only-of-type {\n",
       "        vertical-align: middle;\n",
       "    }\n",
       "\n",
       "    .dataframe tbody tr th {\n",
       "        vertical-align: top;\n",
       "    }\n",
       "\n",
       "    .dataframe thead th {\n",
       "        text-align: right;\n",
       "    }\n",
       "</style>\n",
       "<table border=\"1\" class=\"dataframe\">\n",
       "  <thead>\n",
       "    <tr style=\"text-align: right;\">\n",
       "      <th></th>\n",
       "      <th>OBJCONT_72</th>\n",
       "      <th>OBJCONT_73</th>\n",
       "      <th>OBJCONT_75</th>\n",
       "      <th>DISTRACTN_1</th>\n",
       "      <th>DISTRACTN_2</th>\n",
       "      <th>CRITEVENT_50.0</th>\n",
       "      <th>CRITEVENT_56.0</th>\n",
       "      <th>PRELOC_6.0</th>\n",
       "      <th>PRELOC_7.0</th>\n",
       "      <th>HF</th>\n",
       "    </tr>\n",
       "  </thead>\n",
       "  <tbody>\n",
       "    <tr>\n",
       "      <th>0</th>\n",
       "      <td>NaN</td>\n",
       "      <td>NaN</td>\n",
       "      <td>NaN</td>\n",
       "      <td>0.0</td>\n",
       "      <td>1.0</td>\n",
       "      <td>0.0</td>\n",
       "      <td>0.0</td>\n",
       "      <td>0.0</td>\n",
       "      <td>0.0</td>\n",
       "      <td>True</td>\n",
       "    </tr>\n",
       "    <tr>\n",
       "      <th>1</th>\n",
       "      <td>NaN</td>\n",
       "      <td>NaN</td>\n",
       "      <td>NaN</td>\n",
       "      <td>0.0</td>\n",
       "      <td>1.0</td>\n",
       "      <td>0.0</td>\n",
       "      <td>0.0</td>\n",
       "      <td>0.0</td>\n",
       "      <td>0.0</td>\n",
       "      <td>True</td>\n",
       "    </tr>\n",
       "    <tr>\n",
       "      <th>2</th>\n",
       "      <td>0.0</td>\n",
       "      <td>0.0</td>\n",
       "      <td>0.0</td>\n",
       "      <td>NaN</td>\n",
       "      <td>NaN</td>\n",
       "      <td>0.0</td>\n",
       "      <td>0.0</td>\n",
       "      <td>0.0</td>\n",
       "      <td>0.0</td>\n",
       "      <td>False</td>\n",
       "    </tr>\n",
       "    <tr>\n",
       "      <th>3</th>\n",
       "      <td>NaN</td>\n",
       "      <td>NaN</td>\n",
       "      <td>NaN</td>\n",
       "      <td>NaN</td>\n",
       "      <td>NaN</td>\n",
       "      <td>1.0</td>\n",
       "      <td>0.0</td>\n",
       "      <td>0.0</td>\n",
       "      <td>0.0</td>\n",
       "      <td>True</td>\n",
       "    </tr>\n",
       "    <tr>\n",
       "      <th>4</th>\n",
       "      <td>NaN</td>\n",
       "      <td>NaN</td>\n",
       "      <td>NaN</td>\n",
       "      <td>NaN</td>\n",
       "      <td>NaN</td>\n",
       "      <td>1.0</td>\n",
       "      <td>0.0</td>\n",
       "      <td>0.0</td>\n",
       "      <td>0.0</td>\n",
       "      <td>True</td>\n",
       "    </tr>\n",
       "  </tbody>\n",
       "</table>\n",
       "</div>"
      ],
      "text/plain": [
       "   OBJCONT_72  OBJCONT_73  OBJCONT_75  DISTRACTN_1  DISTRACTN_2  \\\n",
       "0         NaN         NaN         NaN          0.0          1.0   \n",
       "1         NaN         NaN         NaN          0.0          1.0   \n",
       "2         0.0         0.0         0.0          NaN          NaN   \n",
       "3         NaN         NaN         NaN          NaN          NaN   \n",
       "4         NaN         NaN         NaN          NaN          NaN   \n",
       "\n",
       "   CRITEVENT_50.0  CRITEVENT_56.0  PRELOC_6.0  PRELOC_7.0     HF  \n",
       "0             0.0             0.0         0.0         0.0   True  \n",
       "1             0.0             0.0         0.0         0.0   True  \n",
       "2             0.0             0.0         0.0         0.0  False  \n",
       "3             1.0             0.0         0.0         0.0   True  \n",
       "4             1.0             0.0         0.0         0.0   True  "
      ]
     },
     "execution_count": 18,
     "metadata": {},
     "output_type": "execute_result"
    }
   ],
   "source": [
    "cols=[\"OBJCONT_72\",\"OBJCONT_73\",\"OBJCONT_75\",\"DISTRACTN_1\",\"DISTRACTN_2\",\"CRITEVENT_50.0\",\"CRITEVENT_56.0\",\"PRELOC_6.0\",\"PRELOC_7.0\"]\n",
    "dfhf=dfnad[cols].copy()\n",
    "dfhf[\"HF\"]=dfhf.any(axis=\"columns\")\n",
    "dfhf.head()"
   ]
  },
  {
   "cell_type": "code",
   "execution_count": 19,
   "id": "eb677701-f529-4a22-bd46-742881e3f7dd",
   "metadata": {},
   "outputs": [
    {
     "data": {
      "text/plain": [
       "HF\n",
       "False    10669\n",
       "True      2033\n",
       "Name: count, dtype: int64"
      ]
     },
     "execution_count": 19,
     "metadata": {},
     "output_type": "execute_result"
    }
   ],
   "source": [
    "dfhf['HF'].value_counts()"
   ]
  },
  {
   "cell_type": "code",
   "execution_count": 20,
   "id": "71d935e8-bf92-4e28-9c92-1396bc71d218",
   "metadata": {},
   "outputs": [
    {
     "data": {
      "text/html": [
       "<div>\n",
       "<style scoped>\n",
       "    .dataframe tbody tr th:only-of-type {\n",
       "        vertical-align: middle;\n",
       "    }\n",
       "\n",
       "    .dataframe tbody tr th {\n",
       "        vertical-align: top;\n",
       "    }\n",
       "\n",
       "    .dataframe thead th {\n",
       "        text-align: right;\n",
       "    }\n",
       "</style>\n",
       "<table border=\"1\" class=\"dataframe\">\n",
       "  <thead>\n",
       "    <tr style=\"text-align: right;\">\n",
       "      <th></th>\n",
       "      <th>ypc</th>\n",
       "      <th>combwgt</th>\n",
       "      <th>de</th>\n",
       "    </tr>\n",
       "  </thead>\n",
       "  <tbody>\n",
       "    <tr>\n",
       "      <th>0</th>\n",
       "      <td>16035</td>\n",
       "      <td>64</td>\n",
       "      <td>1</td>\n",
       "    </tr>\n",
       "    <tr>\n",
       "      <th>1</th>\n",
       "      <td>16035</td>\n",
       "      <td>64</td>\n",
       "      <td>1</td>\n",
       "    </tr>\n",
       "    <tr>\n",
       "      <th>2</th>\n",
       "      <td>16037</td>\n",
       "      <td>3758</td>\n",
       "      <td>0</td>\n",
       "    </tr>\n",
       "    <tr>\n",
       "      <th>3</th>\n",
       "      <td>16038</td>\n",
       "      <td>2592</td>\n",
       "      <td>1</td>\n",
       "    </tr>\n",
       "    <tr>\n",
       "      <th>4</th>\n",
       "      <td>16038</td>\n",
       "      <td>2592</td>\n",
       "      <td>1</td>\n",
       "    </tr>\n",
       "  </tbody>\n",
       "</table>\n",
       "</div>"
      ],
      "text/plain": [
       "     ypc  combwgt  de\n",
       "0  16035       64   1\n",
       "1  16035       64   1\n",
       "2  16037     3758   0\n",
       "3  16038     2592   1\n",
       "4  16038     2592   1"
      ]
     },
     "execution_count": 20,
     "metadata": {},
     "output_type": "execute_result"
    }
   ],
   "source": [
    "data=[dfnad[\"CASEID\"],dfnad['CASEWGT'],dfhf[\"HF\"]]\n",
    "headers=[\"ypc\",\"combwgt\",\"de\"]\n",
    "dffinal=pd.concat(data,axis=1, keys=headers)\n",
    "dffinal[\"de\"]=dffinal[\"de\"].astype(int)\n",
    "dffinal.head()"
   ]
  },
  {
   "cell_type": "code",
   "execution_count": 21,
   "id": "a94960c2-c168-43ae-abe2-24ff3774bf1a",
   "metadata": {},
   "outputs": [],
   "source": [
    "dfhf.to_excel(\"DataNew/HF1.xlsx\")"
   ]
  },
  {
   "cell_type": "code",
   "execution_count": 22,
   "id": "5b334331-cea3-41d2-9b27-532df3606019",
   "metadata": {},
   "outputs": [
    {
     "data": {
      "text/plain": [
       "(12702, 10)"
      ]
     },
     "execution_count": 22,
     "metadata": {},
     "output_type": "execute_result"
    }
   ],
   "source": [
    "dfhf.shape"
   ]
  },
  {
   "cell_type": "code",
   "execution_count": 23,
   "id": "4c3ebfbe-ca2a-4146-8acb-f0acbcfcac97",
   "metadata": {},
   "outputs": [],
   "source": [
    "#Vehicle Factors"
   ]
  },
  {
   "cell_type": "code",
   "execution_count": 24,
   "id": "1d88c641-ac28-4597-9ede-7580f749e9f0",
   "metadata": {},
   "outputs": [
    {
     "data": {
      "text/html": [
       "<div>\n",
       "<style scoped>\n",
       "    .dataframe tbody tr th:only-of-type {\n",
       "        vertical-align: middle;\n",
       "    }\n",
       "\n",
       "    .dataframe tbody tr th {\n",
       "        vertical-align: top;\n",
       "    }\n",
       "\n",
       "    .dataframe thead th {\n",
       "        text-align: right;\n",
       "    }\n",
       "</style>\n",
       "<table border=\"1\" class=\"dataframe\">\n",
       "  <thead>\n",
       "    <tr style=\"text-align: right;\">\n",
       "      <th></th>\n",
       "      <th>OBJCONT_78</th>\n",
       "      <th>CRITEVENT_3.0</th>\n",
       "      <th>CRITEVENT_4.0</th>\n",
       "      <th>CRITEVENT_8.0</th>\n",
       "      <th>VF</th>\n",
       "    </tr>\n",
       "  </thead>\n",
       "  <tbody>\n",
       "    <tr>\n",
       "      <th>0</th>\n",
       "      <td>NaN</td>\n",
       "      <td>0.0</td>\n",
       "      <td>0.0</td>\n",
       "      <td>0.0</td>\n",
       "      <td>False</td>\n",
       "    </tr>\n",
       "    <tr>\n",
       "      <th>1</th>\n",
       "      <td>NaN</td>\n",
       "      <td>0.0</td>\n",
       "      <td>0.0</td>\n",
       "      <td>0.0</td>\n",
       "      <td>False</td>\n",
       "    </tr>\n",
       "    <tr>\n",
       "      <th>2</th>\n",
       "      <td>0.0</td>\n",
       "      <td>0.0</td>\n",
       "      <td>0.0</td>\n",
       "      <td>0.0</td>\n",
       "      <td>False</td>\n",
       "    </tr>\n",
       "    <tr>\n",
       "      <th>3</th>\n",
       "      <td>NaN</td>\n",
       "      <td>0.0</td>\n",
       "      <td>0.0</td>\n",
       "      <td>0.0</td>\n",
       "      <td>False</td>\n",
       "    </tr>\n",
       "    <tr>\n",
       "      <th>4</th>\n",
       "      <td>NaN</td>\n",
       "      <td>0.0</td>\n",
       "      <td>0.0</td>\n",
       "      <td>0.0</td>\n",
       "      <td>False</td>\n",
       "    </tr>\n",
       "  </tbody>\n",
       "</table>\n",
       "</div>"
      ],
      "text/plain": [
       "   OBJCONT_78  CRITEVENT_3.0  CRITEVENT_4.0  CRITEVENT_8.0     VF\n",
       "0         NaN            0.0            0.0            0.0  False\n",
       "1         NaN            0.0            0.0            0.0  False\n",
       "2         0.0            0.0            0.0            0.0  False\n",
       "3         NaN            0.0            0.0            0.0  False\n",
       "4         NaN            0.0            0.0            0.0  False"
      ]
     },
     "execution_count": 24,
     "metadata": {},
     "output_type": "execute_result"
    }
   ],
   "source": [
    "cols=[\"OBJCONT_78\",\"CRITEVENT_3.0\",\"CRITEVENT_4.0\",\"CRITEVENT_8.0\"]\n",
    "dfvf=dfnad[cols].copy()\n",
    "dfvf[\"VF\"]=dfvf.any(axis=\"columns\")\n",
    "dfvf.head()"
   ]
  },
  {
   "cell_type": "code",
   "execution_count": 25,
   "id": "9f8dcb4b-57b1-45e3-a082-b8661ccafd9c",
   "metadata": {},
   "outputs": [
    {
     "data": {
      "text/plain": [
       "VF\n",
       "False    12554\n",
       "True       148\n",
       "Name: count, dtype: int64"
      ]
     },
     "execution_count": 25,
     "metadata": {},
     "output_type": "execute_result"
    }
   ],
   "source": [
    "dfvf['VF'].value_counts()"
   ]
  },
  {
   "cell_type": "code",
   "execution_count": 26,
   "id": "5be28bd8-eabd-40c7-8f03-5110e5ea0aea",
   "metadata": {
    "scrolled": true
   },
   "outputs": [
    {
     "data": {
      "text/html": [
       "<div>\n",
       "<style scoped>\n",
       "    .dataframe tbody tr th:only-of-type {\n",
       "        vertical-align: middle;\n",
       "    }\n",
       "\n",
       "    .dataframe tbody tr th {\n",
       "        vertical-align: top;\n",
       "    }\n",
       "\n",
       "    .dataframe thead th {\n",
       "        text-align: right;\n",
       "    }\n",
       "</style>\n",
       "<table border=\"1\" class=\"dataframe\">\n",
       "  <thead>\n",
       "    <tr style=\"text-align: right;\">\n",
       "      <th></th>\n",
       "      <th>ypc</th>\n",
       "      <th>combwgt</th>\n",
       "      <th>vf</th>\n",
       "    </tr>\n",
       "  </thead>\n",
       "  <tbody>\n",
       "    <tr>\n",
       "      <th>0</th>\n",
       "      <td>16035</td>\n",
       "      <td>64</td>\n",
       "      <td>0</td>\n",
       "    </tr>\n",
       "    <tr>\n",
       "      <th>1</th>\n",
       "      <td>16035</td>\n",
       "      <td>64</td>\n",
       "      <td>0</td>\n",
       "    </tr>\n",
       "    <tr>\n",
       "      <th>2</th>\n",
       "      <td>16037</td>\n",
       "      <td>3758</td>\n",
       "      <td>0</td>\n",
       "    </tr>\n",
       "    <tr>\n",
       "      <th>3</th>\n",
       "      <td>16038</td>\n",
       "      <td>2592</td>\n",
       "      <td>0</td>\n",
       "    </tr>\n",
       "    <tr>\n",
       "      <th>4</th>\n",
       "      <td>16038</td>\n",
       "      <td>2592</td>\n",
       "      <td>0</td>\n",
       "    </tr>\n",
       "  </tbody>\n",
       "</table>\n",
       "</div>"
      ],
      "text/plain": [
       "     ypc  combwgt  vf\n",
       "0  16035       64   0\n",
       "1  16035       64   0\n",
       "2  16037     3758   0\n",
       "3  16038     2592   0\n",
       "4  16038     2592   0"
      ]
     },
     "execution_count": 26,
     "metadata": {},
     "output_type": "execute_result"
    }
   ],
   "source": [
    "data=[dfnad[\"CASEID\"],dfnad['CASEWGT'],dfvf[\"VF\"]]\n",
    "headers=[\"ypc\",\"combwgt\",\"vf\"]\n",
    "dffinal=pd.concat(data,axis=1, keys=headers)\n",
    "dffinal[\"vf\"]=dffinal[\"vf\"].astype(int)\n",
    "dffinal.head()"
   ]
  },
  {
   "cell_type": "code",
   "execution_count": 27,
   "id": "5b386fa0-81e2-4221-be71-717e59b56f31",
   "metadata": {
    "scrolled": true
   },
   "outputs": [
    {
     "data": {
      "text/plain": [
       "80338"
      ]
     },
     "execution_count": 27,
     "metadata": {},
     "output_type": "execute_result"
    }
   ],
   "source": [
    "dfol=dffinal[(dffinal.vf==1)]\n",
    "dfol[\"combwgt\"].sum()"
   ]
  },
  {
   "cell_type": "code",
   "execution_count": 28,
   "id": "ad8767b2-e86a-45cb-a2b9-40c2f5e54695",
   "metadata": {},
   "outputs": [
    {
     "data": {
      "text/plain": [
       "(12702, 5)"
      ]
     },
     "execution_count": 28,
     "metadata": {},
     "output_type": "execute_result"
    }
   ],
   "source": [
    "dfvf.shape"
   ]
  },
  {
   "cell_type": "code",
   "execution_count": 29,
   "id": "7a7242c1-0c33-43ad-ada1-ea81dee2c3d9",
   "metadata": {},
   "outputs": [],
   "source": [
    "dfvf.to_excel(\"DataNew/VF1.xlsx\")"
   ]
  },
  {
   "cell_type": "code",
   "execution_count": 30,
   "id": "adf7fe84-e2d5-4a84-a810-ebb850f8f39b",
   "metadata": {},
   "outputs": [],
   "source": [
    "#Vehicle Maintenance"
   ]
  },
  {
   "cell_type": "code",
   "execution_count": 31,
   "id": "b90199d5-1910-4e0b-a4a4-625e5d7f75f8",
   "metadata": {},
   "outputs": [
    {
     "data": {
      "text/html": [
       "<div>\n",
       "<style scoped>\n",
       "    .dataframe tbody tr th:only-of-type {\n",
       "        vertical-align: middle;\n",
       "    }\n",
       "\n",
       "    .dataframe tbody tr th {\n",
       "        vertical-align: top;\n",
       "    }\n",
       "\n",
       "    .dataframe thead th {\n",
       "        text-align: right;\n",
       "    }\n",
       "</style>\n",
       "<table border=\"1\" class=\"dataframe\">\n",
       "  <thead>\n",
       "    <tr style=\"text-align: right;\">\n",
       "      <th></th>\n",
       "      <th>CRITEVENT_1.0</th>\n",
       "      <th>VM</th>\n",
       "    </tr>\n",
       "  </thead>\n",
       "  <tbody>\n",
       "    <tr>\n",
       "      <th>0</th>\n",
       "      <td>0.0</td>\n",
       "      <td>False</td>\n",
       "    </tr>\n",
       "    <tr>\n",
       "      <th>1</th>\n",
       "      <td>0.0</td>\n",
       "      <td>False</td>\n",
       "    </tr>\n",
       "    <tr>\n",
       "      <th>2</th>\n",
       "      <td>0.0</td>\n",
       "      <td>False</td>\n",
       "    </tr>\n",
       "    <tr>\n",
       "      <th>3</th>\n",
       "      <td>0.0</td>\n",
       "      <td>False</td>\n",
       "    </tr>\n",
       "    <tr>\n",
       "      <th>4</th>\n",
       "      <td>0.0</td>\n",
       "      <td>False</td>\n",
       "    </tr>\n",
       "  </tbody>\n",
       "</table>\n",
       "</div>"
      ],
      "text/plain": [
       "   CRITEVENT_1.0     VM\n",
       "0            0.0  False\n",
       "1            0.0  False\n",
       "2            0.0  False\n",
       "3            0.0  False\n",
       "4            0.0  False"
      ]
     },
     "execution_count": 31,
     "metadata": {},
     "output_type": "execute_result"
    }
   ],
   "source": [
    "cols=[\"CRITEVENT_1.0\"]\n",
    "dfvm=dfnad[cols].copy()\n",
    "dfvm[\"VM\"]=dfvm.any(axis=\"columns\")\n",
    "dfvm.head()"
   ]
  },
  {
   "cell_type": "code",
   "execution_count": 32,
   "id": "fc55a86d-c3e5-48f0-a3f4-bd649072da61",
   "metadata": {},
   "outputs": [
    {
     "data": {
      "text/plain": [
       "VM\n",
       "False    12668\n",
       "True        34\n",
       "Name: count, dtype: int64"
      ]
     },
     "execution_count": 32,
     "metadata": {},
     "output_type": "execute_result"
    }
   ],
   "source": [
    "dfvm['VM'].value_counts()"
   ]
  },
  {
   "cell_type": "code",
   "execution_count": 33,
   "id": "86debc50-030e-4fad-88ea-2cb7621673cc",
   "metadata": {},
   "outputs": [
    {
     "data": {
      "text/html": [
       "<div>\n",
       "<style scoped>\n",
       "    .dataframe tbody tr th:only-of-type {\n",
       "        vertical-align: middle;\n",
       "    }\n",
       "\n",
       "    .dataframe tbody tr th {\n",
       "        vertical-align: top;\n",
       "    }\n",
       "\n",
       "    .dataframe thead th {\n",
       "        text-align: right;\n",
       "    }\n",
       "</style>\n",
       "<table border=\"1\" class=\"dataframe\">\n",
       "  <thead>\n",
       "    <tr style=\"text-align: right;\">\n",
       "      <th></th>\n",
       "      <th>ypc</th>\n",
       "      <th>combwgt</th>\n",
       "      <th>vm</th>\n",
       "    </tr>\n",
       "  </thead>\n",
       "  <tbody>\n",
       "    <tr>\n",
       "      <th>0</th>\n",
       "      <td>16035</td>\n",
       "      <td>64</td>\n",
       "      <td>0</td>\n",
       "    </tr>\n",
       "    <tr>\n",
       "      <th>1</th>\n",
       "      <td>16035</td>\n",
       "      <td>64</td>\n",
       "      <td>0</td>\n",
       "    </tr>\n",
       "    <tr>\n",
       "      <th>2</th>\n",
       "      <td>16037</td>\n",
       "      <td>3758</td>\n",
       "      <td>0</td>\n",
       "    </tr>\n",
       "    <tr>\n",
       "      <th>3</th>\n",
       "      <td>16038</td>\n",
       "      <td>2592</td>\n",
       "      <td>0</td>\n",
       "    </tr>\n",
       "    <tr>\n",
       "      <th>4</th>\n",
       "      <td>16038</td>\n",
       "      <td>2592</td>\n",
       "      <td>0</td>\n",
       "    </tr>\n",
       "  </tbody>\n",
       "</table>\n",
       "</div>"
      ],
      "text/plain": [
       "     ypc  combwgt  vm\n",
       "0  16035       64   0\n",
       "1  16035       64   0\n",
       "2  16037     3758   0\n",
       "3  16038     2592   0\n",
       "4  16038     2592   0"
      ]
     },
     "execution_count": 33,
     "metadata": {},
     "output_type": "execute_result"
    }
   ],
   "source": [
    "data=[dfnad[\"CASEID\"],dfnad['CASEWGT'],dfvm[\"VM\"]]\n",
    "headers=[\"ypc\",\"combwgt\",\"vm\"]\n",
    "dffinal=pd.concat(data,axis=1, keys=headers)\n",
    "dffinal[\"vm\"]=dffinal[\"vm\"].astype(int)\n",
    "dffinal.head()"
   ]
  },
  {
   "cell_type": "code",
   "execution_count": 34,
   "id": "e9fd1d56-fe0b-4c0c-9fe9-49dccf6ed2cd",
   "metadata": {},
   "outputs": [
    {
     "data": {
      "text/plain": [
       "36891"
      ]
     },
     "execution_count": 34,
     "metadata": {},
     "output_type": "execute_result"
    }
   ],
   "source": [
    "dfol=dffinal[(dffinal.vm==1)]\n",
    "dfol[\"combwgt\"].sum()"
   ]
  },
  {
   "cell_type": "code",
   "execution_count": 35,
   "id": "d4de5325-14a4-4c1e-a9ea-8dca36badb37",
   "metadata": {},
   "outputs": [
    {
     "data": {
      "text/plain": [
       "(12702, 2)"
      ]
     },
     "execution_count": 35,
     "metadata": {},
     "output_type": "execute_result"
    }
   ],
   "source": [
    "dfvm.shape"
   ]
  },
  {
   "cell_type": "code",
   "execution_count": 36,
   "id": "957e0224-9160-476e-ac10-0f34aff44055",
   "metadata": {},
   "outputs": [],
   "source": [
    "dfvm.to_excel(\"DataNew/VM1.xlsx\")"
   ]
  },
  {
   "cell_type": "code",
   "execution_count": 37,
   "id": "0ccbe5b3-4363-4de9-a1bc-f89d141b2c4d",
   "metadata": {},
   "outputs": [],
   "source": [
    "#Infrastructure Factors"
   ]
  },
  {
   "cell_type": "code",
   "execution_count": 38,
   "id": "3db37c44-2c20-4115-8c3a-90eb06fd71e2",
   "metadata": {},
   "outputs": [
    {
     "data": {
      "text/html": [
       "<div>\n",
       "<style scoped>\n",
       "    .dataframe tbody tr th:only-of-type {\n",
       "        vertical-align: middle;\n",
       "    }\n",
       "\n",
       "    .dataframe tbody tr th {\n",
       "        vertical-align: top;\n",
       "    }\n",
       "\n",
       "    .dataframe thead th {\n",
       "        text-align: right;\n",
       "    }\n",
       "</style>\n",
       "<table border=\"1\" class=\"dataframe\">\n",
       "  <thead>\n",
       "    <tr style=\"text-align: right;\">\n",
       "      <th></th>\n",
       "      <th>OBJCONT_41</th>\n",
       "      <th>OBJCONT_42</th>\n",
       "      <th>OBJCONT_43</th>\n",
       "      <th>OBJCONT_44</th>\n",
       "      <th>OBJCONT_45</th>\n",
       "      <th>OBJCONT_47</th>\n",
       "      <th>OBJCONT_48</th>\n",
       "      <th>OBJCONT_49</th>\n",
       "      <th>OBJCONT_50</th>\n",
       "      <th>OBJCONT_51</th>\n",
       "      <th>...</th>\n",
       "      <th>OBJCONT_60</th>\n",
       "      <th>OBJCONT_61</th>\n",
       "      <th>OBJCONT_62</th>\n",
       "      <th>OBJCONT_63</th>\n",
       "      <th>OBJCONT_64</th>\n",
       "      <th>OBJCONT_68</th>\n",
       "      <th>OBJCONT_69</th>\n",
       "      <th>CRITEVENT_5.0</th>\n",
       "      <th>TRAFFUNCT_1.0</th>\n",
       "      <th>IF</th>\n",
       "    </tr>\n",
       "  </thead>\n",
       "  <tbody>\n",
       "    <tr>\n",
       "      <th>0</th>\n",
       "      <td>NaN</td>\n",
       "      <td>NaN</td>\n",
       "      <td>NaN</td>\n",
       "      <td>NaN</td>\n",
       "      <td>NaN</td>\n",
       "      <td>NaN</td>\n",
       "      <td>NaN</td>\n",
       "      <td>NaN</td>\n",
       "      <td>NaN</td>\n",
       "      <td>NaN</td>\n",
       "      <td>...</td>\n",
       "      <td>NaN</td>\n",
       "      <td>NaN</td>\n",
       "      <td>NaN</td>\n",
       "      <td>NaN</td>\n",
       "      <td>NaN</td>\n",
       "      <td>NaN</td>\n",
       "      <td>NaN</td>\n",
       "      <td>0.0</td>\n",
       "      <td>0.0</td>\n",
       "      <td>False</td>\n",
       "    </tr>\n",
       "    <tr>\n",
       "      <th>1</th>\n",
       "      <td>NaN</td>\n",
       "      <td>NaN</td>\n",
       "      <td>NaN</td>\n",
       "      <td>NaN</td>\n",
       "      <td>NaN</td>\n",
       "      <td>NaN</td>\n",
       "      <td>NaN</td>\n",
       "      <td>NaN</td>\n",
       "      <td>NaN</td>\n",
       "      <td>NaN</td>\n",
       "      <td>...</td>\n",
       "      <td>NaN</td>\n",
       "      <td>NaN</td>\n",
       "      <td>NaN</td>\n",
       "      <td>NaN</td>\n",
       "      <td>NaN</td>\n",
       "      <td>NaN</td>\n",
       "      <td>NaN</td>\n",
       "      <td>0.0</td>\n",
       "      <td>0.0</td>\n",
       "      <td>False</td>\n",
       "    </tr>\n",
       "    <tr>\n",
       "      <th>2</th>\n",
       "      <td>0.0</td>\n",
       "      <td>0.0</td>\n",
       "      <td>0.0</td>\n",
       "      <td>0.0</td>\n",
       "      <td>0.0</td>\n",
       "      <td>0.0</td>\n",
       "      <td>0.0</td>\n",
       "      <td>0.0</td>\n",
       "      <td>1.0</td>\n",
       "      <td>0.0</td>\n",
       "      <td>...</td>\n",
       "      <td>0.0</td>\n",
       "      <td>0.0</td>\n",
       "      <td>0.0</td>\n",
       "      <td>0.0</td>\n",
       "      <td>0.0</td>\n",
       "      <td>0.0</td>\n",
       "      <td>0.0</td>\n",
       "      <td>0.0</td>\n",
       "      <td>0.0</td>\n",
       "      <td>True</td>\n",
       "    </tr>\n",
       "    <tr>\n",
       "      <th>3</th>\n",
       "      <td>NaN</td>\n",
       "      <td>NaN</td>\n",
       "      <td>NaN</td>\n",
       "      <td>NaN</td>\n",
       "      <td>NaN</td>\n",
       "      <td>NaN</td>\n",
       "      <td>NaN</td>\n",
       "      <td>NaN</td>\n",
       "      <td>NaN</td>\n",
       "      <td>NaN</td>\n",
       "      <td>...</td>\n",
       "      <td>NaN</td>\n",
       "      <td>NaN</td>\n",
       "      <td>NaN</td>\n",
       "      <td>NaN</td>\n",
       "      <td>NaN</td>\n",
       "      <td>NaN</td>\n",
       "      <td>NaN</td>\n",
       "      <td>0.0</td>\n",
       "      <td>0.0</td>\n",
       "      <td>False</td>\n",
       "    </tr>\n",
       "    <tr>\n",
       "      <th>4</th>\n",
       "      <td>NaN</td>\n",
       "      <td>NaN</td>\n",
       "      <td>NaN</td>\n",
       "      <td>NaN</td>\n",
       "      <td>NaN</td>\n",
       "      <td>NaN</td>\n",
       "      <td>NaN</td>\n",
       "      <td>NaN</td>\n",
       "      <td>NaN</td>\n",
       "      <td>NaN</td>\n",
       "      <td>...</td>\n",
       "      <td>NaN</td>\n",
       "      <td>NaN</td>\n",
       "      <td>NaN</td>\n",
       "      <td>NaN</td>\n",
       "      <td>NaN</td>\n",
       "      <td>NaN</td>\n",
       "      <td>NaN</td>\n",
       "      <td>0.0</td>\n",
       "      <td>0.0</td>\n",
       "      <td>False</td>\n",
       "    </tr>\n",
       "  </tbody>\n",
       "</table>\n",
       "<p>5 rows × 28 columns</p>\n",
       "</div>"
      ],
      "text/plain": [
       "   OBJCONT_41  OBJCONT_42  OBJCONT_43  OBJCONT_44  OBJCONT_45  OBJCONT_47  \\\n",
       "0         NaN         NaN         NaN         NaN         NaN         NaN   \n",
       "1         NaN         NaN         NaN         NaN         NaN         NaN   \n",
       "2         0.0         0.0         0.0         0.0         0.0         0.0   \n",
       "3         NaN         NaN         NaN         NaN         NaN         NaN   \n",
       "4         NaN         NaN         NaN         NaN         NaN         NaN   \n",
       "\n",
       "   OBJCONT_48  OBJCONT_49  OBJCONT_50  OBJCONT_51  ...  OBJCONT_60  \\\n",
       "0         NaN         NaN         NaN         NaN  ...         NaN   \n",
       "1         NaN         NaN         NaN         NaN  ...         NaN   \n",
       "2         0.0         0.0         1.0         0.0  ...         0.0   \n",
       "3         NaN         NaN         NaN         NaN  ...         NaN   \n",
       "4         NaN         NaN         NaN         NaN  ...         NaN   \n",
       "\n",
       "   OBJCONT_61  OBJCONT_62  OBJCONT_63  OBJCONT_64  OBJCONT_68  OBJCONT_69  \\\n",
       "0         NaN         NaN         NaN         NaN         NaN         NaN   \n",
       "1         NaN         NaN         NaN         NaN         NaN         NaN   \n",
       "2         0.0         0.0         0.0         0.0         0.0         0.0   \n",
       "3         NaN         NaN         NaN         NaN         NaN         NaN   \n",
       "4         NaN         NaN         NaN         NaN         NaN         NaN   \n",
       "\n",
       "   CRITEVENT_5.0  TRAFFUNCT_1.0     IF  \n",
       "0            0.0            0.0  False  \n",
       "1            0.0            0.0  False  \n",
       "2            0.0            0.0   True  \n",
       "3            0.0            0.0  False  \n",
       "4            0.0            0.0  False  \n",
       "\n",
       "[5 rows x 28 columns]"
      ]
     },
     "execution_count": 38,
     "metadata": {},
     "output_type": "execute_result"
    }
   ],
   "source": [
    "cols=[ 'OBJCONT_41','OBJCONT_42', 'OBJCONT_43', 'OBJCONT_44', 'OBJCONT_45',\n",
    "      'OBJCONT_47','OBJCONT_48','OBJCONT_49','OBJCONT_50','OBJCONT_51','OBJCONT_52','OBJCONT_53','OBJCONT_54','OBJCONT_55','OBJCONT_56','OBJCONT_57',\\\n",
    "   'OBJCONT_58','OBJCONT_59','OBJCONT_60','OBJCONT_61','OBJCONT_62','OBJCONT_63','OBJCONT_64','OBJCONT_68','OBJCONT_69',\\\n",
    "      \"CRITEVENT_5.0\",\"TRAFFUNCT_1.0\"]#'OBJCONT_76.0',\"CRITEVENT_87.0\",\"CRITEVENT_88.0\",\"CRITEVENT_89.0\",\"CRITEVENT_90.0\",\"CRITEVENT_91.0\",\"CRITEVENT_92.0\"]\n",
    "#cols=[\"WEATHER_2.0\",\"WEATHER_3.0\",\"WEATHER_4.0\",\"WEATHER_5.0\",\"WEATHER_6.0\",\"WEATHER_7.0\",\"WEATHER_9.0\",\"WEATHER_10.0\"]\n",
    "dfif=dfnad[cols].copy()\n",
    "dfif[\"IF\"]=dfif.any(axis=\"columns\")\n",
    "dfif.head()"
   ]
  },
  {
   "cell_type": "code",
   "execution_count": 39,
   "id": "4fe51d3e-fbf4-4928-b67f-1805da49a3a1",
   "metadata": {},
   "outputs": [
    {
     "data": {
      "text/plain": [
       "IF\n",
       "False    8980\n",
       "True     3722\n",
       "Name: count, dtype: int64"
      ]
     },
     "execution_count": 39,
     "metadata": {},
     "output_type": "execute_result"
    }
   ],
   "source": [
    "dfif['IF'].value_counts()"
   ]
  },
  {
   "cell_type": "code",
   "execution_count": 40,
   "id": "f739da3e-77bb-468d-93c2-1266f7266876",
   "metadata": {},
   "outputs": [
    {
     "data": {
      "text/html": [
       "<div>\n",
       "<style scoped>\n",
       "    .dataframe tbody tr th:only-of-type {\n",
       "        vertical-align: middle;\n",
       "    }\n",
       "\n",
       "    .dataframe tbody tr th {\n",
       "        vertical-align: top;\n",
       "    }\n",
       "\n",
       "    .dataframe thead th {\n",
       "        text-align: right;\n",
       "    }\n",
       "</style>\n",
       "<table border=\"1\" class=\"dataframe\">\n",
       "  <thead>\n",
       "    <tr style=\"text-align: right;\">\n",
       "      <th></th>\n",
       "      <th>ypc</th>\n",
       "      <th>combwgt</th>\n",
       "      <th>df</th>\n",
       "    </tr>\n",
       "  </thead>\n",
       "  <tbody>\n",
       "    <tr>\n",
       "      <th>0</th>\n",
       "      <td>16035</td>\n",
       "      <td>64</td>\n",
       "      <td>0</td>\n",
       "    </tr>\n",
       "    <tr>\n",
       "      <th>1</th>\n",
       "      <td>16035</td>\n",
       "      <td>64</td>\n",
       "      <td>0</td>\n",
       "    </tr>\n",
       "    <tr>\n",
       "      <th>2</th>\n",
       "      <td>16037</td>\n",
       "      <td>3758</td>\n",
       "      <td>1</td>\n",
       "    </tr>\n",
       "    <tr>\n",
       "      <th>3</th>\n",
       "      <td>16038</td>\n",
       "      <td>2592</td>\n",
       "      <td>0</td>\n",
       "    </tr>\n",
       "    <tr>\n",
       "      <th>4</th>\n",
       "      <td>16038</td>\n",
       "      <td>2592</td>\n",
       "      <td>0</td>\n",
       "    </tr>\n",
       "  </tbody>\n",
       "</table>\n",
       "</div>"
      ],
      "text/plain": [
       "     ypc  combwgt  df\n",
       "0  16035       64   0\n",
       "1  16035       64   0\n",
       "2  16037     3758   1\n",
       "3  16038     2592   0\n",
       "4  16038     2592   0"
      ]
     },
     "execution_count": 40,
     "metadata": {},
     "output_type": "execute_result"
    }
   ],
   "source": [
    "data=[dfnad[\"CASEID\"],dfnad['CASEWGT'],dfif[\"IF\"]]\n",
    "headers=[\"ypc\",\"combwgt\",\"df\"]\n",
    "dffinal=pd.concat(data,axis=1, keys=headers)\n",
    "dffinal[\"df\"]=dffinal[\"df\"].astype(int)\n",
    "dffinal.head()"
   ]
  },
  {
   "cell_type": "code",
   "execution_count": 41,
   "id": "657ea40d-5a2a-4f81-9904-cc748de36de5",
   "metadata": {},
   "outputs": [
    {
     "data": {
      "text/plain": [
       "2584068"
      ]
     },
     "execution_count": 41,
     "metadata": {},
     "output_type": "execute_result"
    }
   ],
   "source": [
    "dfol=dffinal[(dffinal.df==1)]\n",
    "dfol[\"combwgt\"].sum()"
   ]
  },
  {
   "cell_type": "code",
   "execution_count": 42,
   "id": "5919187b-8fb7-4ec0-ac13-5e66b3774dbe",
   "metadata": {},
   "outputs": [
    {
     "data": {
      "text/plain": [
       "(12702, 28)"
      ]
     },
     "execution_count": 42,
     "metadata": {},
     "output_type": "execute_result"
    }
   ],
   "source": [
    "dfif.shape"
   ]
  },
  {
   "cell_type": "code",
   "execution_count": 43,
   "id": "8a33c204-e8e7-4913-9d09-da17ae91df9c",
   "metadata": {},
   "outputs": [],
   "source": [
    "dfif.to_excel(\"DataNew/IF1.xlsx\")"
   ]
  },
  {
   "cell_type": "code",
   "execution_count": 44,
   "id": "8aeda6cd-e56f-4c46-9c73-684d010b8778",
   "metadata": {},
   "outputs": [],
   "source": [
    "#Weather Factors"
   ]
  },
  {
   "cell_type": "code",
   "execution_count": 45,
   "id": "1889cfed-3bb1-4f5e-b1e2-44e82c6bd758",
   "metadata": {},
   "outputs": [
    {
     "data": {
      "text/html": [
       "<div>\n",
       "<style scoped>\n",
       "    .dataframe tbody tr th:only-of-type {\n",
       "        vertical-align: middle;\n",
       "    }\n",
       "\n",
       "    .dataframe tbody tr th {\n",
       "        vertical-align: top;\n",
       "    }\n",
       "\n",
       "    .dataframe thead th {\n",
       "        text-align: right;\n",
       "    }\n",
       "</style>\n",
       "<table border=\"1\" class=\"dataframe\">\n",
       "  <thead>\n",
       "    <tr style=\"text-align: right;\">\n",
       "      <th></th>\n",
       "      <th>OBJCONT_61</th>\n",
       "      <th>OBJCONT_68</th>\n",
       "      <th>OBJCONT_69</th>\n",
       "      <th>OBJCONT_76</th>\n",
       "      <th>CRITEVENT_5.0</th>\n",
       "      <th>CRITEVENT_87.0</th>\n",
       "      <th>CRITEVENT_88.0</th>\n",
       "      <th>CRITEVENT_89.0</th>\n",
       "      <th>CRITEVENT_90.0</th>\n",
       "      <th>CRITEVENT_91.0</th>\n",
       "      <th>...</th>\n",
       "      <th>SURFCOND_9.0</th>\n",
       "      <th>WEATHER_2.0</th>\n",
       "      <th>WEATHER_3.0</th>\n",
       "      <th>WEATHER_4.0</th>\n",
       "      <th>WEATHER_5.0</th>\n",
       "      <th>WEATHER_6.0</th>\n",
       "      <th>WEATHER_7.0</th>\n",
       "      <th>WEATHER_9.0</th>\n",
       "      <th>WEATHER_10.0</th>\n",
       "      <th>WE</th>\n",
       "    </tr>\n",
       "  </thead>\n",
       "  <tbody>\n",
       "    <tr>\n",
       "      <th>0</th>\n",
       "      <td>NaN</td>\n",
       "      <td>NaN</td>\n",
       "      <td>NaN</td>\n",
       "      <td>NaN</td>\n",
       "      <td>0.0</td>\n",
       "      <td>0.0</td>\n",
       "      <td>0.0</td>\n",
       "      <td>0.0</td>\n",
       "      <td>0.0</td>\n",
       "      <td>0.0</td>\n",
       "      <td>...</td>\n",
       "      <td>0.0</td>\n",
       "      <td>0.0</td>\n",
       "      <td>0.0</td>\n",
       "      <td>0.0</td>\n",
       "      <td>0.0</td>\n",
       "      <td>0.0</td>\n",
       "      <td>0.0</td>\n",
       "      <td>0.0</td>\n",
       "      <td>0.0</td>\n",
       "      <td>False</td>\n",
       "    </tr>\n",
       "    <tr>\n",
       "      <th>1</th>\n",
       "      <td>NaN</td>\n",
       "      <td>NaN</td>\n",
       "      <td>NaN</td>\n",
       "      <td>NaN</td>\n",
       "      <td>0.0</td>\n",
       "      <td>0.0</td>\n",
       "      <td>0.0</td>\n",
       "      <td>0.0</td>\n",
       "      <td>0.0</td>\n",
       "      <td>0.0</td>\n",
       "      <td>...</td>\n",
       "      <td>0.0</td>\n",
       "      <td>0.0</td>\n",
       "      <td>0.0</td>\n",
       "      <td>0.0</td>\n",
       "      <td>0.0</td>\n",
       "      <td>0.0</td>\n",
       "      <td>0.0</td>\n",
       "      <td>0.0</td>\n",
       "      <td>0.0</td>\n",
       "      <td>False</td>\n",
       "    </tr>\n",
       "    <tr>\n",
       "      <th>2</th>\n",
       "      <td>0.0</td>\n",
       "      <td>0.0</td>\n",
       "      <td>0.0</td>\n",
       "      <td>0.0</td>\n",
       "      <td>0.0</td>\n",
       "      <td>0.0</td>\n",
       "      <td>0.0</td>\n",
       "      <td>0.0</td>\n",
       "      <td>0.0</td>\n",
       "      <td>0.0</td>\n",
       "      <td>...</td>\n",
       "      <td>0.0</td>\n",
       "      <td>0.0</td>\n",
       "      <td>0.0</td>\n",
       "      <td>0.0</td>\n",
       "      <td>0.0</td>\n",
       "      <td>0.0</td>\n",
       "      <td>0.0</td>\n",
       "      <td>0.0</td>\n",
       "      <td>0.0</td>\n",
       "      <td>False</td>\n",
       "    </tr>\n",
       "    <tr>\n",
       "      <th>3</th>\n",
       "      <td>NaN</td>\n",
       "      <td>NaN</td>\n",
       "      <td>NaN</td>\n",
       "      <td>NaN</td>\n",
       "      <td>0.0</td>\n",
       "      <td>0.0</td>\n",
       "      <td>0.0</td>\n",
       "      <td>0.0</td>\n",
       "      <td>0.0</td>\n",
       "      <td>0.0</td>\n",
       "      <td>...</td>\n",
       "      <td>0.0</td>\n",
       "      <td>0.0</td>\n",
       "      <td>0.0</td>\n",
       "      <td>0.0</td>\n",
       "      <td>0.0</td>\n",
       "      <td>0.0</td>\n",
       "      <td>0.0</td>\n",
       "      <td>0.0</td>\n",
       "      <td>0.0</td>\n",
       "      <td>False</td>\n",
       "    </tr>\n",
       "    <tr>\n",
       "      <th>4</th>\n",
       "      <td>NaN</td>\n",
       "      <td>NaN</td>\n",
       "      <td>NaN</td>\n",
       "      <td>NaN</td>\n",
       "      <td>0.0</td>\n",
       "      <td>0.0</td>\n",
       "      <td>0.0</td>\n",
       "      <td>0.0</td>\n",
       "      <td>0.0</td>\n",
       "      <td>0.0</td>\n",
       "      <td>...</td>\n",
       "      <td>0.0</td>\n",
       "      <td>0.0</td>\n",
       "      <td>0.0</td>\n",
       "      <td>0.0</td>\n",
       "      <td>0.0</td>\n",
       "      <td>0.0</td>\n",
       "      <td>0.0</td>\n",
       "      <td>0.0</td>\n",
       "      <td>0.0</td>\n",
       "      <td>False</td>\n",
       "    </tr>\n",
       "  </tbody>\n",
       "</table>\n",
       "<p>5 rows × 27 columns</p>\n",
       "</div>"
      ],
      "text/plain": [
       "   OBJCONT_61  OBJCONT_68  OBJCONT_69  OBJCONT_76  CRITEVENT_5.0  \\\n",
       "0         NaN         NaN         NaN         NaN            0.0   \n",
       "1         NaN         NaN         NaN         NaN            0.0   \n",
       "2         0.0         0.0         0.0         0.0            0.0   \n",
       "3         NaN         NaN         NaN         NaN            0.0   \n",
       "4         NaN         NaN         NaN         NaN            0.0   \n",
       "\n",
       "   CRITEVENT_87.0  CRITEVENT_88.0  CRITEVENT_89.0  CRITEVENT_90.0  \\\n",
       "0             0.0             0.0             0.0             0.0   \n",
       "1             0.0             0.0             0.0             0.0   \n",
       "2             0.0             0.0             0.0             0.0   \n",
       "3             0.0             0.0             0.0             0.0   \n",
       "4             0.0             0.0             0.0             0.0   \n",
       "\n",
       "   CRITEVENT_91.0  ...  SURFCOND_9.0  WEATHER_2.0  WEATHER_3.0  WEATHER_4.0  \\\n",
       "0             0.0  ...           0.0          0.0          0.0          0.0   \n",
       "1             0.0  ...           0.0          0.0          0.0          0.0   \n",
       "2             0.0  ...           0.0          0.0          0.0          0.0   \n",
       "3             0.0  ...           0.0          0.0          0.0          0.0   \n",
       "4             0.0  ...           0.0          0.0          0.0          0.0   \n",
       "\n",
       "   WEATHER_5.0  WEATHER_6.0  WEATHER_7.0  WEATHER_9.0  WEATHER_10.0     WE  \n",
       "0          0.0          0.0          0.0          0.0           0.0  False  \n",
       "1          0.0          0.0          0.0          0.0           0.0  False  \n",
       "2          0.0          0.0          0.0          0.0           0.0  False  \n",
       "3          0.0          0.0          0.0          0.0           0.0  False  \n",
       "4          0.0          0.0          0.0          0.0           0.0  False  \n",
       "\n",
       "[5 rows x 27 columns]"
      ]
     },
     "execution_count": 45,
     "metadata": {},
     "output_type": "execute_result"
    }
   ],
   "source": [
    "cols=['OBJCONT_61','OBJCONT_68','OBJCONT_69','OBJCONT_76',\"CRITEVENT_5.0\",\"CRITEVENT_87.0\",\"CRITEVENT_88.0\",\"CRITEVENT_89.0\",\"CRITEVENT_90.0\",\"CRITEVENT_91.0\",\"CRITEVENT_92.0\",\\\n",
    "      \"SURFCOND_2.0\",\"SURFCOND_3.0\",\"SURFCOND_4.0\",\"SURFCOND_5.0\",\"SURFCOND_6.0\",\"SURFCOND_8.0\",\"SURFCOND_9.0\",\\\n",
    "      \"WEATHER_2.0\",\"WEATHER_3.0\",\"WEATHER_4.0\",\"WEATHER_5.0\",\"WEATHER_6.0\",\"WEATHER_7.0\",\"WEATHER_9.0\",\"WEATHER_10.0\"]\n",
    "dfwe=dfnad[cols].copy()\n",
    "dfwe[\"WE\"]=dfwe.any(axis=\"columns\")\n",
    "dfwe.head()"
   ]
  },
  {
   "cell_type": "code",
   "execution_count": 46,
   "id": "91abe09d-7cbe-4c5e-8269-3c430d4a7346",
   "metadata": {},
   "outputs": [
    {
     "data": {
      "text/plain": [
       "WE\n",
       "False    9755\n",
       "True     2947\n",
       "Name: count, dtype: int64"
      ]
     },
     "execution_count": 46,
     "metadata": {},
     "output_type": "execute_result"
    }
   ],
   "source": [
    "dfwe['WE'].value_counts()"
   ]
  },
  {
   "cell_type": "code",
   "execution_count": 47,
   "id": "46eeb640-0270-4e80-80ea-929f02e0c7d9",
   "metadata": {},
   "outputs": [
    {
     "data": {
      "text/html": [
       "<div>\n",
       "<style scoped>\n",
       "    .dataframe tbody tr th:only-of-type {\n",
       "        vertical-align: middle;\n",
       "    }\n",
       "\n",
       "    .dataframe tbody tr th {\n",
       "        vertical-align: top;\n",
       "    }\n",
       "\n",
       "    .dataframe thead th {\n",
       "        text-align: right;\n",
       "    }\n",
       "</style>\n",
       "<table border=\"1\" class=\"dataframe\">\n",
       "  <thead>\n",
       "    <tr style=\"text-align: right;\">\n",
       "      <th></th>\n",
       "      <th>ypc</th>\n",
       "      <th>combwgt</th>\n",
       "      <th>df</th>\n",
       "    </tr>\n",
       "  </thead>\n",
       "  <tbody>\n",
       "    <tr>\n",
       "      <th>0</th>\n",
       "      <td>16035</td>\n",
       "      <td>64</td>\n",
       "      <td>0</td>\n",
       "    </tr>\n",
       "    <tr>\n",
       "      <th>1</th>\n",
       "      <td>16035</td>\n",
       "      <td>64</td>\n",
       "      <td>0</td>\n",
       "    </tr>\n",
       "    <tr>\n",
       "      <th>2</th>\n",
       "      <td>16037</td>\n",
       "      <td>3758</td>\n",
       "      <td>0</td>\n",
       "    </tr>\n",
       "    <tr>\n",
       "      <th>3</th>\n",
       "      <td>16038</td>\n",
       "      <td>2592</td>\n",
       "      <td>0</td>\n",
       "    </tr>\n",
       "    <tr>\n",
       "      <th>4</th>\n",
       "      <td>16038</td>\n",
       "      <td>2592</td>\n",
       "      <td>0</td>\n",
       "    </tr>\n",
       "  </tbody>\n",
       "</table>\n",
       "</div>"
      ],
      "text/plain": [
       "     ypc  combwgt  df\n",
       "0  16035       64   0\n",
       "1  16035       64   0\n",
       "2  16037     3758   0\n",
       "3  16038     2592   0\n",
       "4  16038     2592   0"
      ]
     },
     "execution_count": 47,
     "metadata": {},
     "output_type": "execute_result"
    }
   ],
   "source": [
    "data=[dfnad[\"CASEID\"],dfnad['CASEWGT'],dfwe[\"WE\"]]\n",
    "headers=[\"ypc\",\"combwgt\",\"df\"]\n",
    "dffinal=pd.concat(data,axis=1, keys=headers)\n",
    "dffinal[\"df\"]=dffinal[\"df\"].astype(int)\n",
    "dffinal.head()"
   ]
  },
  {
   "cell_type": "code",
   "execution_count": 48,
   "id": "24710f87-e9ed-4b47-9f56-8636490b0d71",
   "metadata": {},
   "outputs": [
    {
     "data": {
      "text/plain": [
       "2467269"
      ]
     },
     "execution_count": 48,
     "metadata": {},
     "output_type": "execute_result"
    }
   ],
   "source": [
    "dfol=dffinal[(dffinal.df==1)]\n",
    "dfol[\"combwgt\"].sum()"
   ]
  },
  {
   "cell_type": "code",
   "execution_count": 49,
   "id": "9c44f78e-b399-4585-98dc-757642681db6",
   "metadata": {},
   "outputs": [
    {
     "data": {
      "text/plain": [
       "(12702, 27)"
      ]
     },
     "execution_count": 49,
     "metadata": {},
     "output_type": "execute_result"
    }
   ],
   "source": [
    "dfwe.shape"
   ]
  },
  {
   "cell_type": "code",
   "execution_count": 50,
   "id": "4b1d6f0a-6b9f-4014-ac37-d34732d2d555",
   "metadata": {},
   "outputs": [],
   "source": [
    "dfwe.to_excel(\"DataNew/WE1.xlsx\")"
   ]
  },
  {
   "cell_type": "code",
   "execution_count": 51,
   "id": "fe7f05b0-5a04-4060-8796-7ca99633b1ad",
   "metadata": {},
   "outputs": [],
   "source": [
    "#Socio Economic Factors"
   ]
  },
  {
   "cell_type": "code",
   "execution_count": 52,
   "id": "dbcdecd0-4280-487f-aa3f-4bc91d2c3753",
   "metadata": {},
   "outputs": [
    {
     "data": {
      "text/html": [
       "<div>\n",
       "<style scoped>\n",
       "    .dataframe tbody tr th:only-of-type {\n",
       "        vertical-align: middle;\n",
       "    }\n",
       "\n",
       "    .dataframe tbody tr th {\n",
       "        vertical-align: top;\n",
       "    }\n",
       "\n",
       "    .dataframe thead th {\n",
       "        text-align: right;\n",
       "    }\n",
       "</style>\n",
       "<table border=\"1\" class=\"dataframe\">\n",
       "  <thead>\n",
       "    <tr style=\"text-align: right;\">\n",
       "      <th></th>\n",
       "      <th>DISTRACTN_1</th>\n",
       "      <th>CRITEVENT_6.0</th>\n",
       "      <th>SF</th>\n",
       "    </tr>\n",
       "  </thead>\n",
       "  <tbody>\n",
       "    <tr>\n",
       "      <th>0</th>\n",
       "      <td>0.0</td>\n",
       "      <td>0.0</td>\n",
       "      <td>False</td>\n",
       "    </tr>\n",
       "    <tr>\n",
       "      <th>1</th>\n",
       "      <td>0.0</td>\n",
       "      <td>0.0</td>\n",
       "      <td>False</td>\n",
       "    </tr>\n",
       "    <tr>\n",
       "      <th>2</th>\n",
       "      <td>NaN</td>\n",
       "      <td>0.0</td>\n",
       "      <td>False</td>\n",
       "    </tr>\n",
       "    <tr>\n",
       "      <th>3</th>\n",
       "      <td>NaN</td>\n",
       "      <td>0.0</td>\n",
       "      <td>False</td>\n",
       "    </tr>\n",
       "    <tr>\n",
       "      <th>4</th>\n",
       "      <td>NaN</td>\n",
       "      <td>0.0</td>\n",
       "      <td>False</td>\n",
       "    </tr>\n",
       "  </tbody>\n",
       "</table>\n",
       "</div>"
      ],
      "text/plain": [
       "   DISTRACTN_1  CRITEVENT_6.0     SF\n",
       "0          0.0            0.0  False\n",
       "1          0.0            0.0  False\n",
       "2          NaN            0.0  False\n",
       "3          NaN            0.0  False\n",
       "4          NaN            0.0  False"
      ]
     },
     "execution_count": 52,
     "metadata": {},
     "output_type": "execute_result"
    }
   ],
   "source": [
    "cols=['DISTRACTN_1',\"CRITEVENT_6.0\"]\n",
    "dfsf=dfnad[cols].copy()\n",
    "dfsf[\"SF\"]=dfsf.any(axis=\"columns\")\n",
    "dfsf.head()"
   ]
  },
  {
   "cell_type": "code",
   "execution_count": 53,
   "id": "aa11928a-1e7f-414f-afe6-68135e27199c",
   "metadata": {},
   "outputs": [
    {
     "data": {
      "text/plain": [
       "SF\n",
       "False    11796\n",
       "True       906\n",
       "Name: count, dtype: int64"
      ]
     },
     "execution_count": 53,
     "metadata": {},
     "output_type": "execute_result"
    }
   ],
   "source": [
    "dfsf['SF'].value_counts()"
   ]
  },
  {
   "cell_type": "code",
   "execution_count": 54,
   "id": "419711e8-d583-47f9-97e2-88c02cb09666",
   "metadata": {},
   "outputs": [
    {
     "data": {
      "text/html": [
       "<div>\n",
       "<style scoped>\n",
       "    .dataframe tbody tr th:only-of-type {\n",
       "        vertical-align: middle;\n",
       "    }\n",
       "\n",
       "    .dataframe tbody tr th {\n",
       "        vertical-align: top;\n",
       "    }\n",
       "\n",
       "    .dataframe thead th {\n",
       "        text-align: right;\n",
       "    }\n",
       "</style>\n",
       "<table border=\"1\" class=\"dataframe\">\n",
       "  <thead>\n",
       "    <tr style=\"text-align: right;\">\n",
       "      <th></th>\n",
       "      <th>ypc</th>\n",
       "      <th>combwgt</th>\n",
       "      <th>sf</th>\n",
       "    </tr>\n",
       "  </thead>\n",
       "  <tbody>\n",
       "    <tr>\n",
       "      <th>0</th>\n",
       "      <td>16035</td>\n",
       "      <td>64</td>\n",
       "      <td>0</td>\n",
       "    </tr>\n",
       "    <tr>\n",
       "      <th>1</th>\n",
       "      <td>16035</td>\n",
       "      <td>64</td>\n",
       "      <td>0</td>\n",
       "    </tr>\n",
       "    <tr>\n",
       "      <th>2</th>\n",
       "      <td>16037</td>\n",
       "      <td>3758</td>\n",
       "      <td>0</td>\n",
       "    </tr>\n",
       "    <tr>\n",
       "      <th>3</th>\n",
       "      <td>16038</td>\n",
       "      <td>2592</td>\n",
       "      <td>0</td>\n",
       "    </tr>\n",
       "    <tr>\n",
       "      <th>4</th>\n",
       "      <td>16038</td>\n",
       "      <td>2592</td>\n",
       "      <td>0</td>\n",
       "    </tr>\n",
       "  </tbody>\n",
       "</table>\n",
       "</div>"
      ],
      "text/plain": [
       "     ypc  combwgt  sf\n",
       "0  16035       64   0\n",
       "1  16035       64   0\n",
       "2  16037     3758   0\n",
       "3  16038     2592   0\n",
       "4  16038     2592   0"
      ]
     },
     "execution_count": 54,
     "metadata": {},
     "output_type": "execute_result"
    }
   ],
   "source": [
    "data=[dfnad[\"CASEID\"],dfnad['CASEWGT'],dfsf[\"SF\"]]\n",
    "headers=[\"ypc\",\"combwgt\",\"sf\"]\n",
    "dffinal=pd.concat(data,axis=1, keys=headers)\n",
    "dffinal[\"sf\"]=dffinal[\"sf\"].astype(int)\n",
    "dffinal.head()"
   ]
  },
  {
   "cell_type": "code",
   "execution_count": 55,
   "id": "f6573556-8155-4ce9-89a6-d257f5bc27b3",
   "metadata": {},
   "outputs": [
    {
     "data": {
      "text/plain": [
       "648511"
      ]
     },
     "execution_count": 55,
     "metadata": {},
     "output_type": "execute_result"
    }
   ],
   "source": [
    "dfol=dffinal[(dffinal.sf==1)]\n",
    "dfol[\"combwgt\"].sum()"
   ]
  },
  {
   "cell_type": "code",
   "execution_count": 56,
   "id": "e3a17caf-a63b-4e59-b203-067e8563ba88",
   "metadata": {},
   "outputs": [
    {
     "data": {
      "text/plain": [
       "(12702, 3)"
      ]
     },
     "execution_count": 56,
     "metadata": {},
     "output_type": "execute_result"
    }
   ],
   "source": [
    "dfsf.shape"
   ]
  },
  {
   "cell_type": "code",
   "execution_count": 57,
   "id": "2a49ff2a-bec2-4e44-8cc0-ce60b6b77972",
   "metadata": {},
   "outputs": [],
   "source": [
    "dfsf.to_excel(\"DataNew/SF1.xlsx\")"
   ]
  },
  {
   "cell_type": "code",
   "execution_count": 58,
   "id": "8cc24efb-3fa4-458b-86f1-f0923e229eaf",
   "metadata": {},
   "outputs": [
    {
     "data": {
      "text/html": [
       "<div>\n",
       "<style scoped>\n",
       "    .dataframe tbody tr th:only-of-type {\n",
       "        vertical-align: middle;\n",
       "    }\n",
       "\n",
       "    .dataframe tbody tr th {\n",
       "        vertical-align: top;\n",
       "    }\n",
       "\n",
       "    .dataframe thead th {\n",
       "        text-align: right;\n",
       "    }\n",
       "</style>\n",
       "<table border=\"1\" class=\"dataframe\">\n",
       "  <thead>\n",
       "    <tr style=\"text-align: right;\">\n",
       "      <th></th>\n",
       "      <th>ypc</th>\n",
       "      <th>combwgt</th>\n",
       "      <th>de</th>\n",
       "      <th>hf</th>\n",
       "      <th>vf</th>\n",
       "      <th>vm</th>\n",
       "      <th>if</th>\n",
       "      <th>we</th>\n",
       "      <th>sf</th>\n",
       "    </tr>\n",
       "  </thead>\n",
       "  <tbody>\n",
       "    <tr>\n",
       "      <th>0</th>\n",
       "      <td>16035</td>\n",
       "      <td>64</td>\n",
       "      <td>1</td>\n",
       "      <td>1</td>\n",
       "      <td>0</td>\n",
       "      <td>0</td>\n",
       "      <td>0</td>\n",
       "      <td>0</td>\n",
       "      <td>0</td>\n",
       "    </tr>\n",
       "    <tr>\n",
       "      <th>1</th>\n",
       "      <td>16035</td>\n",
       "      <td>64</td>\n",
       "      <td>1</td>\n",
       "      <td>1</td>\n",
       "      <td>0</td>\n",
       "      <td>0</td>\n",
       "      <td>0</td>\n",
       "      <td>0</td>\n",
       "      <td>0</td>\n",
       "    </tr>\n",
       "    <tr>\n",
       "      <th>2</th>\n",
       "      <td>16037</td>\n",
       "      <td>3758</td>\n",
       "      <td>1</td>\n",
       "      <td>0</td>\n",
       "      <td>0</td>\n",
       "      <td>0</td>\n",
       "      <td>1</td>\n",
       "      <td>0</td>\n",
       "      <td>0</td>\n",
       "    </tr>\n",
       "    <tr>\n",
       "      <th>3</th>\n",
       "      <td>16038</td>\n",
       "      <td>2592</td>\n",
       "      <td>1</td>\n",
       "      <td>1</td>\n",
       "      <td>0</td>\n",
       "      <td>0</td>\n",
       "      <td>0</td>\n",
       "      <td>0</td>\n",
       "      <td>0</td>\n",
       "    </tr>\n",
       "    <tr>\n",
       "      <th>4</th>\n",
       "      <td>16038</td>\n",
       "      <td>2592</td>\n",
       "      <td>1</td>\n",
       "      <td>1</td>\n",
       "      <td>0</td>\n",
       "      <td>0</td>\n",
       "      <td>0</td>\n",
       "      <td>0</td>\n",
       "      <td>0</td>\n",
       "    </tr>\n",
       "  </tbody>\n",
       "</table>\n",
       "</div>"
      ],
      "text/plain": [
       "     ypc  combwgt  de  hf  vf  vm  if  we  sf\n",
       "0  16035       64   1   1   0   0   0   0   0\n",
       "1  16035       64   1   1   0   0   0   0   0\n",
       "2  16037     3758   1   0   0   0   1   0   0\n",
       "3  16038     2592   1   1   0   0   0   0   0\n",
       "4  16038     2592   1   1   0   0   0   0   0"
      ]
     },
     "execution_count": 58,
     "metadata": {},
     "output_type": "execute_result"
    }
   ],
   "source": [
    "data=[dfnad[\"CASEID\"],dfnad['CASEWGT'],dfde[\"DE\"],dfhf[\"HF\"],dfvf['VF'],dfvm['VM'],dfif['IF'],dfwe['WE'],dfsf['SF']]\n",
    "headers=[\"ypc\",\"combwgt\",\"de\",\"hf\",\"vf\",\"vm\",\"if\",\"we\",\"sf\"]\n",
    "dffinal=pd.concat(data,axis=1, keys=headers)\n",
    "dffinal[\"de\"]=dffinal[\"de\"].astype(int)\n",
    "dffinal[\"hf\"]=dffinal[\"hf\"].astype(int)\n",
    "dffinal[\"vf\"]=dffinal[\"vf\"].astype(int)\n",
    "dffinal[\"vm\"]=dffinal[\"vm\"].astype(int)\n",
    "dffinal[\"if\"]=dffinal[\"if\"].astype(int)\n",
    "dffinal[\"we\"]=dffinal[\"we\"].astype(int)\n",
    "dffinal[\"sf\"]=dffinal[\"sf\"].astype(int)\n",
    "dffinal.head()"
   ]
  },
  {
   "cell_type": "code",
   "execution_count": 59,
   "id": "6801d64d-3edf-4ea0-aed7-b0d48b423cd0",
   "metadata": {},
   "outputs": [],
   "source": [
    "dffinal.to_csv(\"DataNew/Contributingfactor.CSV\")"
   ]
  },
  {
   "cell_type": "code",
   "execution_count": 60,
   "id": "634e2c47-087d-4d46-bbe2-846cf6c316c2",
   "metadata": {},
   "outputs": [],
   "source": [
    "df = pd.read_csv('DataNew/Contributingfactor.CSV')"
   ]
  },
  {
   "cell_type": "code",
   "execution_count": 61,
   "id": "94c6d6b3-d512-4572-9d40-2f9ae1e905bc",
   "metadata": {},
   "outputs": [
    {
     "data": {
      "text/html": [
       "<div>\n",
       "<style scoped>\n",
       "    .dataframe tbody tr th:only-of-type {\n",
       "        vertical-align: middle;\n",
       "    }\n",
       "\n",
       "    .dataframe tbody tr th {\n",
       "        vertical-align: top;\n",
       "    }\n",
       "\n",
       "    .dataframe thead th {\n",
       "        text-align: right;\n",
       "    }\n",
       "</style>\n",
       "<table border=\"1\" class=\"dataframe\">\n",
       "  <thead>\n",
       "    <tr style=\"text-align: right;\">\n",
       "      <th></th>\n",
       "      <th>Unnamed: 0</th>\n",
       "      <th>ypc</th>\n",
       "      <th>combwgt</th>\n",
       "      <th>de</th>\n",
       "      <th>hf</th>\n",
       "      <th>vf</th>\n",
       "      <th>vm</th>\n",
       "      <th>if</th>\n",
       "      <th>we</th>\n",
       "      <th>sf</th>\n",
       "    </tr>\n",
       "  </thead>\n",
       "  <tbody>\n",
       "    <tr>\n",
       "      <th>0</th>\n",
       "      <td>0</td>\n",
       "      <td>16035</td>\n",
       "      <td>64</td>\n",
       "      <td>1</td>\n",
       "      <td>1</td>\n",
       "      <td>0</td>\n",
       "      <td>0</td>\n",
       "      <td>0</td>\n",
       "      <td>0</td>\n",
       "      <td>0</td>\n",
       "    </tr>\n",
       "    <tr>\n",
       "      <th>1</th>\n",
       "      <td>1</td>\n",
       "      <td>16035</td>\n",
       "      <td>64</td>\n",
       "      <td>1</td>\n",
       "      <td>1</td>\n",
       "      <td>0</td>\n",
       "      <td>0</td>\n",
       "      <td>0</td>\n",
       "      <td>0</td>\n",
       "      <td>0</td>\n",
       "    </tr>\n",
       "    <tr>\n",
       "      <th>2</th>\n",
       "      <td>2</td>\n",
       "      <td>16037</td>\n",
       "      <td>3758</td>\n",
       "      <td>1</td>\n",
       "      <td>0</td>\n",
       "      <td>0</td>\n",
       "      <td>0</td>\n",
       "      <td>1</td>\n",
       "      <td>0</td>\n",
       "      <td>0</td>\n",
       "    </tr>\n",
       "    <tr>\n",
       "      <th>3</th>\n",
       "      <td>3</td>\n",
       "      <td>16038</td>\n",
       "      <td>2592</td>\n",
       "      <td>1</td>\n",
       "      <td>1</td>\n",
       "      <td>0</td>\n",
       "      <td>0</td>\n",
       "      <td>0</td>\n",
       "      <td>0</td>\n",
       "      <td>0</td>\n",
       "    </tr>\n",
       "    <tr>\n",
       "      <th>4</th>\n",
       "      <td>4</td>\n",
       "      <td>16038</td>\n",
       "      <td>2592</td>\n",
       "      <td>1</td>\n",
       "      <td>1</td>\n",
       "      <td>0</td>\n",
       "      <td>0</td>\n",
       "      <td>0</td>\n",
       "      <td>0</td>\n",
       "      <td>0</td>\n",
       "    </tr>\n",
       "  </tbody>\n",
       "</table>\n",
       "</div>"
      ],
      "text/plain": [
       "   Unnamed: 0    ypc  combwgt  de  hf  vf  vm  if  we  sf\n",
       "0           0  16035       64   1   1   0   0   0   0   0\n",
       "1           1  16035       64   1   1   0   0   0   0   0\n",
       "2           2  16037     3758   1   0   0   0   1   0   0\n",
       "3           3  16038     2592   1   1   0   0   0   0   0\n",
       "4           4  16038     2592   1   1   0   0   0   0   0"
      ]
     },
     "execution_count": 61,
     "metadata": {},
     "output_type": "execute_result"
    }
   ],
   "source": [
    "df.head()"
   ]
  },
  {
   "cell_type": "code",
   "execution_count": 62,
   "id": "8eee38e4-5fb6-4559-8a58-712f7bde5ec5",
   "metadata": {},
   "outputs": [
    {
     "data": {
      "text/plain": [
       "10950959"
      ]
     },
     "execution_count": 62,
     "metadata": {},
     "output_type": "execute_result"
    }
   ],
   "source": [
    "df[\"combwgt\"].sum()"
   ]
  },
  {
   "cell_type": "code",
   "execution_count": 63,
   "id": "96fcde29-cee8-49d1-a8eb-ff4cad9e74a5",
   "metadata": {},
   "outputs": [
    {
     "data": {
      "text/html": [
       "<div>\n",
       "<style scoped>\n",
       "    .dataframe tbody tr th:only-of-type {\n",
       "        vertical-align: middle;\n",
       "    }\n",
       "\n",
       "    .dataframe tbody tr th {\n",
       "        vertical-align: top;\n",
       "    }\n",
       "\n",
       "    .dataframe thead th {\n",
       "        text-align: right;\n",
       "    }\n",
       "</style>\n",
       "<table border=\"1\" class=\"dataframe\">\n",
       "  <thead>\n",
       "    <tr style=\"text-align: right;\">\n",
       "      <th></th>\n",
       "      <th>de</th>\n",
       "      <th>hf</th>\n",
       "      <th>DEHFSF</th>\n",
       "    </tr>\n",
       "  </thead>\n",
       "  <tbody>\n",
       "    <tr>\n",
       "      <th>0</th>\n",
       "      <td>1</td>\n",
       "      <td>1</td>\n",
       "      <td>True</td>\n",
       "    </tr>\n",
       "    <tr>\n",
       "      <th>1</th>\n",
       "      <td>1</td>\n",
       "      <td>1</td>\n",
       "      <td>True</td>\n",
       "    </tr>\n",
       "    <tr>\n",
       "      <th>2</th>\n",
       "      <td>1</td>\n",
       "      <td>0</td>\n",
       "      <td>True</td>\n",
       "    </tr>\n",
       "    <tr>\n",
       "      <th>3</th>\n",
       "      <td>1</td>\n",
       "      <td>1</td>\n",
       "      <td>True</td>\n",
       "    </tr>\n",
       "    <tr>\n",
       "      <th>4</th>\n",
       "      <td>1</td>\n",
       "      <td>1</td>\n",
       "      <td>True</td>\n",
       "    </tr>\n",
       "  </tbody>\n",
       "</table>\n",
       "</div>"
      ],
      "text/plain": [
       "   de  hf  DEHFSF\n",
       "0   1   1    True\n",
       "1   1   1    True\n",
       "2   1   0    True\n",
       "3   1   1    True\n",
       "4   1   1    True"
      ]
     },
     "execution_count": 63,
     "metadata": {},
     "output_type": "execute_result"
    }
   ],
   "source": [
    "cols=[\"de\",\"hf\"]\n",
    "dfhuman=df[cols].copy()\n",
    "dfhuman[\"DEHFSF\"]=dfhuman.any(axis=\"columns\")\n",
    "dfhuman.head()"
   ]
  },
  {
   "cell_type": "code",
   "execution_count": 64,
   "id": "b6bf6788-c749-46ea-a2cf-00d1d2d3c5d5",
   "metadata": {},
   "outputs": [
    {
     "data": {
      "text/plain": [
       "DEHFSF\n",
       "True     12416\n",
       "False      286\n",
       "Name: count, dtype: int64"
      ]
     },
     "execution_count": 64,
     "metadata": {},
     "output_type": "execute_result"
    }
   ],
   "source": [
    "dfhuman[\"DEHFSF\"].value_counts()"
   ]
  },
  {
   "cell_type": "code",
   "execution_count": 65,
   "id": "e45dadc9-2560-4271-b854-d92d12afb222",
   "metadata": {},
   "outputs": [
    {
     "data": {
      "text/html": [
       "<div>\n",
       "<style scoped>\n",
       "    .dataframe tbody tr th:only-of-type {\n",
       "        vertical-align: middle;\n",
       "    }\n",
       "\n",
       "    .dataframe tbody tr th {\n",
       "        vertical-align: top;\n",
       "    }\n",
       "\n",
       "    .dataframe thead th {\n",
       "        text-align: right;\n",
       "    }\n",
       "</style>\n",
       "<table border=\"1\" class=\"dataframe\">\n",
       "  <thead>\n",
       "    <tr style=\"text-align: right;\">\n",
       "      <th></th>\n",
       "      <th>vf</th>\n",
       "      <th>vm</th>\n",
       "      <th>VFVM</th>\n",
       "    </tr>\n",
       "  </thead>\n",
       "  <tbody>\n",
       "    <tr>\n",
       "      <th>0</th>\n",
       "      <td>0</td>\n",
       "      <td>0</td>\n",
       "      <td>False</td>\n",
       "    </tr>\n",
       "    <tr>\n",
       "      <th>1</th>\n",
       "      <td>0</td>\n",
       "      <td>0</td>\n",
       "      <td>False</td>\n",
       "    </tr>\n",
       "    <tr>\n",
       "      <th>2</th>\n",
       "      <td>0</td>\n",
       "      <td>0</td>\n",
       "      <td>False</td>\n",
       "    </tr>\n",
       "    <tr>\n",
       "      <th>3</th>\n",
       "      <td>0</td>\n",
       "      <td>0</td>\n",
       "      <td>False</td>\n",
       "    </tr>\n",
       "    <tr>\n",
       "      <th>4</th>\n",
       "      <td>0</td>\n",
       "      <td>0</td>\n",
       "      <td>False</td>\n",
       "    </tr>\n",
       "  </tbody>\n",
       "</table>\n",
       "</div>"
      ],
      "text/plain": [
       "   vf  vm   VFVM\n",
       "0   0   0  False\n",
       "1   0   0  False\n",
       "2   0   0  False\n",
       "3   0   0  False\n",
       "4   0   0  False"
      ]
     },
     "execution_count": 65,
     "metadata": {},
     "output_type": "execute_result"
    }
   ],
   "source": [
    "cols=[\"vf\",\"vm\"]\n",
    "dfvehicle=df[cols].copy()\n",
    "dfvehicle[\"VFVM\"]=dfvehicle.any(axis=\"columns\")\n",
    "dfvehicle.head()"
   ]
  },
  {
   "cell_type": "code",
   "execution_count": 66,
   "id": "1fe5c624-7571-468c-a98a-a4f465c7f4fe",
   "metadata": {},
   "outputs": [
    {
     "data": {
      "text/plain": [
       "VFVM\n",
       "False    12520\n",
       "True       182\n",
       "Name: count, dtype: int64"
      ]
     },
     "execution_count": 66,
     "metadata": {},
     "output_type": "execute_result"
    }
   ],
   "source": [
    "dfvehicle[\"VFVM\"].value_counts()"
   ]
  },
  {
   "cell_type": "code",
   "execution_count": 67,
   "id": "8ccb7e8b-47e3-4f8b-a9a2-fea126352622",
   "metadata": {},
   "outputs": [
    {
     "data": {
      "text/html": [
       "<div>\n",
       "<style scoped>\n",
       "    .dataframe tbody tr th:only-of-type {\n",
       "        vertical-align: middle;\n",
       "    }\n",
       "\n",
       "    .dataframe tbody tr th {\n",
       "        vertical-align: top;\n",
       "    }\n",
       "\n",
       "    .dataframe thead th {\n",
       "        text-align: right;\n",
       "    }\n",
       "</style>\n",
       "<table border=\"1\" class=\"dataframe\">\n",
       "  <thead>\n",
       "    <tr style=\"text-align: right;\">\n",
       "      <th></th>\n",
       "      <th>if</th>\n",
       "      <th>we</th>\n",
       "      <th>IFWE</th>\n",
       "    </tr>\n",
       "  </thead>\n",
       "  <tbody>\n",
       "    <tr>\n",
       "      <th>0</th>\n",
       "      <td>0</td>\n",
       "      <td>0</td>\n",
       "      <td>False</td>\n",
       "    </tr>\n",
       "    <tr>\n",
       "      <th>1</th>\n",
       "      <td>0</td>\n",
       "      <td>0</td>\n",
       "      <td>False</td>\n",
       "    </tr>\n",
       "    <tr>\n",
       "      <th>2</th>\n",
       "      <td>1</td>\n",
       "      <td>0</td>\n",
       "      <td>True</td>\n",
       "    </tr>\n",
       "    <tr>\n",
       "      <th>3</th>\n",
       "      <td>0</td>\n",
       "      <td>0</td>\n",
       "      <td>False</td>\n",
       "    </tr>\n",
       "    <tr>\n",
       "      <th>4</th>\n",
       "      <td>0</td>\n",
       "      <td>0</td>\n",
       "      <td>False</td>\n",
       "    </tr>\n",
       "  </tbody>\n",
       "</table>\n",
       "</div>"
      ],
      "text/plain": [
       "   if  we   IFWE\n",
       "0   0   0  False\n",
       "1   0   0  False\n",
       "2   1   0   True\n",
       "3   0   0  False\n",
       "4   0   0  False"
      ]
     },
     "execution_count": 67,
     "metadata": {},
     "output_type": "execute_result"
    }
   ],
   "source": [
    "cols=[\"if\",\"we\"]\n",
    "dfenvironment=df[cols].copy()\n",
    "dfenvironment[\"IFWE\"]=dfenvironment.any(axis=\"columns\")\n",
    "dfenvironment.head()"
   ]
  },
  {
   "cell_type": "code",
   "execution_count": 68,
   "id": "055550dd-4042-40dc-8a90-cfc19954d03a",
   "metadata": {},
   "outputs": [
    {
     "data": {
      "text/plain": [
       "IFWE\n",
       "False    7367\n",
       "True     5335\n",
       "Name: count, dtype: int64"
      ]
     },
     "execution_count": 68,
     "metadata": {},
     "output_type": "execute_result"
    }
   ],
   "source": [
    "dfenvironment['IFWE'].value_counts()"
   ]
  },
  {
   "cell_type": "code",
   "execution_count": 69,
   "id": "3172eee7-1bad-4f4c-b927-3c3843b9e8f0",
   "metadata": {},
   "outputs": [
    {
     "data": {
      "text/html": [
       "<div>\n",
       "<style scoped>\n",
       "    .dataframe tbody tr th:only-of-type {\n",
       "        vertical-align: middle;\n",
       "    }\n",
       "\n",
       "    .dataframe tbody tr th {\n",
       "        vertical-align: top;\n",
       "    }\n",
       "\n",
       "    .dataframe thead th {\n",
       "        text-align: right;\n",
       "    }\n",
       "</style>\n",
       "<table border=\"1\" class=\"dataframe\">\n",
       "  <thead>\n",
       "    <tr style=\"text-align: right;\">\n",
       "      <th></th>\n",
       "      <th>ypc</th>\n",
       "      <th>combwgt</th>\n",
       "      <th>dehfsf</th>\n",
       "      <th>vfvm</th>\n",
       "      <th>ifwe</th>\n",
       "    </tr>\n",
       "  </thead>\n",
       "  <tbody>\n",
       "    <tr>\n",
       "      <th>0</th>\n",
       "      <td>16035</td>\n",
       "      <td>64</td>\n",
       "      <td>1</td>\n",
       "      <td>0</td>\n",
       "      <td>0</td>\n",
       "    </tr>\n",
       "    <tr>\n",
       "      <th>1</th>\n",
       "      <td>16035</td>\n",
       "      <td>64</td>\n",
       "      <td>1</td>\n",
       "      <td>0</td>\n",
       "      <td>0</td>\n",
       "    </tr>\n",
       "    <tr>\n",
       "      <th>2</th>\n",
       "      <td>16037</td>\n",
       "      <td>3758</td>\n",
       "      <td>1</td>\n",
       "      <td>0</td>\n",
       "      <td>1</td>\n",
       "    </tr>\n",
       "    <tr>\n",
       "      <th>3</th>\n",
       "      <td>16038</td>\n",
       "      <td>2592</td>\n",
       "      <td>1</td>\n",
       "      <td>0</td>\n",
       "      <td>0</td>\n",
       "    </tr>\n",
       "    <tr>\n",
       "      <th>4</th>\n",
       "      <td>16038</td>\n",
       "      <td>2592</td>\n",
       "      <td>1</td>\n",
       "      <td>0</td>\n",
       "      <td>0</td>\n",
       "    </tr>\n",
       "  </tbody>\n",
       "</table>\n",
       "</div>"
      ],
      "text/plain": [
       "     ypc  combwgt  dehfsf  vfvm  ifwe\n",
       "0  16035       64       1     0     0\n",
       "1  16035       64       1     0     0\n",
       "2  16037     3758       1     0     1\n",
       "3  16038     2592       1     0     0\n",
       "4  16038     2592       1     0     0"
      ]
     },
     "execution_count": 69,
     "metadata": {},
     "output_type": "execute_result"
    }
   ],
   "source": [
    "data=[df[\"ypc\"],df['combwgt'],dfhuman[\"DEHFSF\"],dfvehicle[\"VFVM\"],dfenvironment['IFWE']]\n",
    "headers=[\"ypc\",\"combwgt\",\"dehfsf\",\"vfvm\",\"ifwe\"]\n",
    "dffinal=pd.concat(data,axis=1, keys=headers)\n",
    "dffinal[\"dehfsf\"]=dffinal[\"dehfsf\"].astype(int)\n",
    "dffinal[\"vfvm\"]=dffinal[\"vfvm\"].astype(int)\n",
    "dffinal[\"ifwe\"]=dffinal[\"ifwe\"].astype(int)\n",
    "dffinal.head()"
   ]
  }
 ],
 "metadata": {
  "kernelspec": {
   "display_name": "Python 3 (ipykernel)",
   "language": "python",
   "name": "python3"
  },
  "language_info": {
   "codemirror_mode": {
    "name": "ipython",
    "version": 3
   },
   "file_extension": ".py",
   "mimetype": "text/x-python",
   "name": "python",
   "nbconvert_exporter": "python",
   "pygments_lexer": "ipython3",
   "version": "3.11.7"
  }
 },
 "nbformat": 4,
 "nbformat_minor": 5
}

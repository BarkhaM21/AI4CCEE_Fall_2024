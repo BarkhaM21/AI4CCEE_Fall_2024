{
 "cells": [
  {
   "cell_type": "code",
   "execution_count": 1,
   "id": "9d87b414-bb2c-44de-9876-11dc23f95735",
   "metadata": {
    "tags": []
   },
   "outputs": [],
   "source": [
    "import pandas as pd\n",
    "import numpy as np"
   ]
  },
  {
   "cell_type": "code",
   "execution_count": 2,
   "id": "5460f53b-6387-418b-9b8a-38b3f1579fcf",
   "metadata": {
    "tags": []
   },
   "outputs": [],
   "source": [
    "# CRASH"
   ]
  },
  {
   "cell_type": "code",
   "execution_count": 3,
   "id": "25b8149b-a1fb-474e-810f-56b459b7d2fc",
   "metadata": {
    "tags": []
   },
   "outputs": [],
   "source": [
    "df2020c = pd.read_csv('CISS_2020_CSV_FILES/CRASH.CSV',encoding='cp1252')\n",
    "df2021c = pd.read_csv('CISS_2021_CSV_FILES/CRASH.CSV',encoding='cp1252')\n",
    "df2022c = pd.read_csv('CISS_2022_CSV_FILES/CRASH.CSV',encoding='cp1252')"
   ]
  },
  {
   "cell_type": "code",
   "execution_count": 4,
   "id": "9e0ea08f-1d21-4f67-9050-8c41d057547e",
   "metadata": {
    "tags": []
   },
   "outputs": [
    {
     "data": {
      "text/plain": [
       "(3700, 3331, 2929)"
      ]
     },
     "execution_count": 4,
     "metadata": {},
     "output_type": "execute_result"
    }
   ],
   "source": [
    "len(df2020c), len(df2021c), len(df2022c)"
   ]
  },
  {
   "cell_type": "code",
   "execution_count": 5,
   "id": "32213a45-c8d5-48a8-84a8-cae9d1668c08",
   "metadata": {
    "tags": []
   },
   "outputs": [],
   "source": [
    "dfcrash=pd.concat([df2020c,df2021c,df2022c])"
   ]
  },
  {
   "cell_type": "code",
   "execution_count": 6,
   "id": "a010e1e3-5463-4631-b423-f4004e3cebe6",
   "metadata": {
    "tags": []
   },
   "outputs": [
    {
     "data": {
      "text/plain": [
       "(9960, 24)"
      ]
     },
     "execution_count": 6,
     "metadata": {},
     "output_type": "execute_result"
    }
   ],
   "source": [
    "dfcrash.shape"
   ]
  },
  {
   "cell_type": "code",
   "execution_count": 7,
   "id": "e837d7e7-ddc7-4595-a0a4-73f83a3897ee",
   "metadata": {
    "tags": []
   },
   "outputs": [
    {
     "data": {
      "text/html": [
       "<div>\n",
       "<style scoped>\n",
       "    .dataframe tbody tr th:only-of-type {\n",
       "        vertical-align: middle;\n",
       "    }\n",
       "\n",
       "    .dataframe tbody tr th {\n",
       "        vertical-align: top;\n",
       "    }\n",
       "\n",
       "    .dataframe thead th {\n",
       "        text-align: right;\n",
       "    }\n",
       "</style>\n",
       "<table border=\"1\" class=\"dataframe\">\n",
       "  <thead>\n",
       "    <tr style=\"text-align: right;\">\n",
       "      <th></th>\n",
       "      <th>CASEID</th>\n",
       "      <th>CRASHYEAR</th>\n",
       "      <th>PSU</th>\n",
       "      <th>CASENO</th>\n",
       "      <th>CASENUMBER</th>\n",
       "      <th>CATEGORY</th>\n",
       "      <th>CRASHMONTH</th>\n",
       "      <th>DAYOFWEEK</th>\n",
       "      <th>CRASHTIME</th>\n",
       "      <th>EVENTS</th>\n",
       "      <th>...</th>\n",
       "      <th>CINJSEV</th>\n",
       "      <th>CTREAT</th>\n",
       "      <th>ALCINV</th>\n",
       "      <th>DRGINV</th>\n",
       "      <th>MANCOLL</th>\n",
       "      <th>SUMMARY</th>\n",
       "      <th>PANDEMIC</th>\n",
       "      <th>CASEWGT</th>\n",
       "      <th>PSUSTRAT</th>\n",
       "      <th>VERSION</th>\n",
       "    </tr>\n",
       "  </thead>\n",
       "  <tbody>\n",
       "    <tr>\n",
       "      <th>0</th>\n",
       "      <td>18342</td>\n",
       "      <td>2020</td>\n",
       "      <td>76</td>\n",
       "      <td>50</td>\n",
       "      <td>1-76-2020-050-07</td>\n",
       "      <td>7</td>\n",
       "      <td>7</td>\n",
       "      <td>2</td>\n",
       "      <td>06:50</td>\n",
       "      <td>1</td>\n",
       "      <td>...</td>\n",
       "      <td>0</td>\n",
       "      <td>0</td>\n",
       "      <td>9</td>\n",
       "      <td>9</td>\n",
       "      <td>0</td>\n",
       "      <td>V1 was traveling northwest on a two way, two l...</td>\n",
       "      <td>0.0</td>\n",
       "      <td>156.802185</td>\n",
       "      <td>3</td>\n",
       "      <td>5</td>\n",
       "    </tr>\n",
       "    <tr>\n",
       "      <th>1</th>\n",
       "      <td>18343</td>\n",
       "      <td>2020</td>\n",
       "      <td>76</td>\n",
       "      <td>51</td>\n",
       "      <td>1-76-2020-051-08</td>\n",
       "      <td>8</td>\n",
       "      <td>7</td>\n",
       "      <td>5</td>\n",
       "      <td>13:52</td>\n",
       "      <td>1</td>\n",
       "      <td>...</td>\n",
       "      <td>0</td>\n",
       "      <td>4</td>\n",
       "      <td>9</td>\n",
       "      <td>9</td>\n",
       "      <td>0</td>\n",
       "      <td>V1 was traveling north on a two way, two lane,...</td>\n",
       "      <td>0.0</td>\n",
       "      <td>23.532876</td>\n",
       "      <td>3</td>\n",
       "      <td>5</td>\n",
       "    </tr>\n",
       "    <tr>\n",
       "      <th>2</th>\n",
       "      <td>18346</td>\n",
       "      <td>2020</td>\n",
       "      <td>26</td>\n",
       "      <td>105</td>\n",
       "      <td>1-26-2020-105-02</td>\n",
       "      <td>2</td>\n",
       "      <td>7</td>\n",
       "      <td>7</td>\n",
       "      <td>17:51</td>\n",
       "      <td>2</td>\n",
       "      <td>...</td>\n",
       "      <td>0</td>\n",
       "      <td>3</td>\n",
       "      <td>2</td>\n",
       "      <td>2</td>\n",
       "      <td>4</td>\n",
       "      <td>V1 was in the number 1 lane of a 2-lane roadwa...</td>\n",
       "      <td>0.0</td>\n",
       "      <td>24.541683</td>\n",
       "      <td>10</td>\n",
       "      <td>5</td>\n",
       "    </tr>\n",
       "    <tr>\n",
       "      <th>3</th>\n",
       "      <td>18348</td>\n",
       "      <td>2020</td>\n",
       "      <td>18</td>\n",
       "      <td>48</td>\n",
       "      <td>1-18-2020-048-03</td>\n",
       "      <td>3</td>\n",
       "      <td>7</td>\n",
       "      <td>3</td>\n",
       "      <td>14:38</td>\n",
       "      <td>1</td>\n",
       "      <td>...</td>\n",
       "      <td>0</td>\n",
       "      <td>9</td>\n",
       "      <td>2</td>\n",
       "      <td>2</td>\n",
       "      <td>1</td>\n",
       "      <td>Vehicle #2 was stopped facing east in lane 1 o...</td>\n",
       "      <td>0.0</td>\n",
       "      <td>124.452828</td>\n",
       "      <td>6</td>\n",
       "      <td>5</td>\n",
       "    </tr>\n",
       "    <tr>\n",
       "      <th>4</th>\n",
       "      <td>18357</td>\n",
       "      <td>2020</td>\n",
       "      <td>26</td>\n",
       "      <td>107</td>\n",
       "      <td>1-26-2020-107-09</td>\n",
       "      <td>9</td>\n",
       "      <td>7</td>\n",
       "      <td>1</td>\n",
       "      <td>00:19</td>\n",
       "      <td>2</td>\n",
       "      <td>...</td>\n",
       "      <td>0</td>\n",
       "      <td>4</td>\n",
       "      <td>2</td>\n",
       "      <td>2</td>\n",
       "      <td>0</td>\n",
       "      <td>V1 was traveling west exiting a freeway in a s...</td>\n",
       "      <td>0.0</td>\n",
       "      <td>1651.087300</td>\n",
       "      <td>10</td>\n",
       "      <td>5</td>\n",
       "    </tr>\n",
       "  </tbody>\n",
       "</table>\n",
       "<p>5 rows × 24 columns</p>\n",
       "</div>"
      ],
      "text/plain": [
       "   CASEID  CRASHYEAR  PSU  CASENO        CASENUMBER  CATEGORY  CRASHMONTH  \\\n",
       "0   18342       2020   76      50  1-76-2020-050-07         7           7   \n",
       "1   18343       2020   76      51  1-76-2020-051-08         8           7   \n",
       "2   18346       2020   26     105  1-26-2020-105-02         2           7   \n",
       "3   18348       2020   18      48  1-18-2020-048-03         3           7   \n",
       "4   18357       2020   26     107  1-26-2020-107-09         9           7   \n",
       "\n",
       "   DAYOFWEEK CRASHTIME  EVENTS  ...  CINJSEV  CTREAT  ALCINV  DRGINV  MANCOLL  \\\n",
       "0          2     06:50       1  ...        0       0       9       9        0   \n",
       "1          5     13:52       1  ...        0       4       9       9        0   \n",
       "2          7     17:51       2  ...        0       3       2       2        4   \n",
       "3          3     14:38       1  ...        0       9       2       2        1   \n",
       "4          1     00:19       2  ...        0       4       2       2        0   \n",
       "\n",
       "                                             SUMMARY  PANDEMIC      CASEWGT  \\\n",
       "0  V1 was traveling northwest on a two way, two l...       0.0   156.802185   \n",
       "1  V1 was traveling north on a two way, two lane,...       0.0    23.532876   \n",
       "2  V1 was in the number 1 lane of a 2-lane roadwa...       0.0    24.541683   \n",
       "3  Vehicle #2 was stopped facing east in lane 1 o...       0.0   124.452828   \n",
       "4  V1 was traveling west exiting a freeway in a s...       0.0  1651.087300   \n",
       "\n",
       "   PSUSTRAT VERSION  \n",
       "0         3       5  \n",
       "1         3       5  \n",
       "2        10       5  \n",
       "3         6       5  \n",
       "4        10       5  \n",
       "\n",
       "[5 rows x 24 columns]"
      ]
     },
     "execution_count": 7,
     "metadata": {},
     "output_type": "execute_result"
    }
   ],
   "source": [
    "dfcrash.head()"
   ]
  },
  {
   "cell_type": "code",
   "execution_count": 8,
   "id": "b2162b9f-3df7-44b8-9471-195c5bb8e4b4",
   "metadata": {
    "tags": []
   },
   "outputs": [],
   "source": [
    "# ADAS"
   ]
  },
  {
   "cell_type": "code",
   "execution_count": 9,
   "id": "8c75a6a7-efcf-4fd8-bc83-4ab0fb205950",
   "metadata": {
    "tags": []
   },
   "outputs": [],
   "source": [
    "full_adas = pd.read_csv('DataNew/full_adas.csv',encoding='cp1252')"
   ]
  },
  {
   "cell_type": "code",
   "execution_count": 10,
   "id": "0ae6fce0-b9b5-40d4-8aa4-3a3579021c6a",
   "metadata": {
    "tags": []
   },
   "outputs": [
    {
     "data": {
      "text/plain": [
       "(17182, 4)"
      ]
     },
     "execution_count": 10,
     "metadata": {},
     "output_type": "execute_result"
    }
   ],
   "source": [
    "full_adas.shape"
   ]
  },
  {
   "cell_type": "code",
   "execution_count": 11,
   "id": "734386fc-5a4d-43e8-a04f-8347e09060f7",
   "metadata": {
    "tags": []
   },
   "outputs": [
    {
     "data": {
      "text/html": [
       "<div>\n",
       "<style scoped>\n",
       "    .dataframe tbody tr th:only-of-type {\n",
       "        vertical-align: middle;\n",
       "    }\n",
       "\n",
       "    .dataframe tbody tr th {\n",
       "        vertical-align: top;\n",
       "    }\n",
       "\n",
       "    .dataframe thead th {\n",
       "        text-align: right;\n",
       "    }\n",
       "</style>\n",
       "<table border=\"1\" class=\"dataframe\">\n",
       "  <thead>\n",
       "    <tr style=\"text-align: right;\">\n",
       "      <th></th>\n",
       "      <th>CASEID</th>\n",
       "      <th>VEHNO</th>\n",
       "      <th>VehicleType</th>\n",
       "      <th>ADAS</th>\n",
       "    </tr>\n",
       "  </thead>\n",
       "  <tbody>\n",
       "    <tr>\n",
       "      <th>0</th>\n",
       "      <td>16035</td>\n",
       "      <td>1</td>\n",
       "      <td>MULTIPURPOSE PASSENGER VEHICLE (MPV)</td>\n",
       "      <td>0</td>\n",
       "    </tr>\n",
       "    <tr>\n",
       "      <th>1</th>\n",
       "      <td>16035</td>\n",
       "      <td>2</td>\n",
       "      <td>TRUCK</td>\n",
       "      <td>0</td>\n",
       "    </tr>\n",
       "    <tr>\n",
       "      <th>2</th>\n",
       "      <td>16037</td>\n",
       "      <td>1</td>\n",
       "      <td>TRUCK</td>\n",
       "      <td>0</td>\n",
       "    </tr>\n",
       "    <tr>\n",
       "      <th>3</th>\n",
       "      <td>16038</td>\n",
       "      <td>1</td>\n",
       "      <td>PASSENGER CAR</td>\n",
       "      <td>0</td>\n",
       "    </tr>\n",
       "    <tr>\n",
       "      <th>4</th>\n",
       "      <td>16038</td>\n",
       "      <td>2</td>\n",
       "      <td>PASSENGER CAR</td>\n",
       "      <td>0</td>\n",
       "    </tr>\n",
       "  </tbody>\n",
       "</table>\n",
       "</div>"
      ],
      "text/plain": [
       "   CASEID  VEHNO                           VehicleType  ADAS\n",
       "0   16035      1  MULTIPURPOSE PASSENGER VEHICLE (MPV)     0\n",
       "1   16035      2                                 TRUCK     0\n",
       "2   16037      1                                 TRUCK     0\n",
       "3   16038      1                         PASSENGER CAR     0\n",
       "4   16038      2                         PASSENGER CAR     0"
      ]
     },
     "execution_count": 11,
     "metadata": {},
     "output_type": "execute_result"
    }
   ],
   "source": [
    "full_adas.head()"
   ]
  },
  {
   "cell_type": "code",
   "execution_count": 12,
   "id": "8d36d0f3-e260-47f9-b7a1-a14be7b60d85",
   "metadata": {
    "tags": []
   },
   "outputs": [],
   "source": [
    "# GV"
   ]
  },
  {
   "cell_type": "code",
   "execution_count": 13,
   "id": "c0f51313-d274-4832-8984-523a655e853d",
   "metadata": {
    "tags": []
   },
   "outputs": [],
   "source": [
    "df2020gv = pd.read_csv('CISS_2020_CSV_FILES/GV.CSV',encoding='cp1252')\n",
    "df2021gv = pd.read_csv('CISS_2021_CSV_FILES/GV.CSV',encoding='cp1252')\n",
    "df2022gv = pd.read_csv('CISS_2022_CSV_FILES/GV.CSV',encoding='cp1252')"
   ]
  },
  {
   "cell_type": "code",
   "execution_count": 14,
   "id": "fa6d5ffd-1849-4376-a806-a06eb8234a7a",
   "metadata": {
    "tags": []
   },
   "outputs": [
    {
     "data": {
      "text/plain": [
       "(6405, 5935, 5166)"
      ]
     },
     "execution_count": 14,
     "metadata": {},
     "output_type": "execute_result"
    }
   ],
   "source": [
    "len(df2020gv), len(df2021gv), len(df2022gv)"
   ]
  },
  {
   "cell_type": "code",
   "execution_count": 15,
   "id": "b235ff51-db84-4141-8ea6-f933f9861c6e",
   "metadata": {
    "tags": []
   },
   "outputs": [],
   "source": [
    "dfgv=pd.concat([df2020gv,df2021gv,df2022gv])"
   ]
  },
  {
   "cell_type": "code",
   "execution_count": 16,
   "id": "a11e85d4-690c-48a9-99cc-5df81c438fdb",
   "metadata": {
    "tags": []
   },
   "outputs": [
    {
     "data": {
      "text/plain": [
       "(17506, 109)"
      ]
     },
     "execution_count": 16,
     "metadata": {},
     "output_type": "execute_result"
    }
   ],
   "source": [
    "dfgv.shape"
   ]
  },
  {
   "cell_type": "code",
   "execution_count": 17,
   "id": "a9307b6b-c23c-47f5-bc29-198af673d076",
   "metadata": {
    "tags": []
   },
   "outputs": [
    {
     "data": {
      "text/html": [
       "<div>\n",
       "<style scoped>\n",
       "    .dataframe tbody tr th:only-of-type {\n",
       "        vertical-align: middle;\n",
       "    }\n",
       "\n",
       "    .dataframe tbody tr th {\n",
       "        vertical-align: top;\n",
       "    }\n",
       "\n",
       "    .dataframe thead th {\n",
       "        text-align: right;\n",
       "    }\n",
       "</style>\n",
       "<table border=\"1\" class=\"dataframe\">\n",
       "  <thead>\n",
       "    <tr style=\"text-align: right;\">\n",
       "      <th></th>\n",
       "      <th>CASEID</th>\n",
       "      <th>PSU</th>\n",
       "      <th>CASENO</th>\n",
       "      <th>CASENUMBER</th>\n",
       "      <th>CATEGORY</th>\n",
       "      <th>VEHNO</th>\n",
       "      <th>VIN</th>\n",
       "      <th>VINLENGTH</th>\n",
       "      <th>MAKE</th>\n",
       "      <th>MODEL</th>\n",
       "      <th>...</th>\n",
       "      <th>EDGEDISTX</th>\n",
       "      <th>EDGEDISTY</th>\n",
       "      <th>EDGEDISTZ</th>\n",
       "      <th>CASEWGT</th>\n",
       "      <th>PSUSTRAT</th>\n",
       "      <th>VERSION</th>\n",
       "      <th>VPICMAKE</th>\n",
       "      <th>VPICMODEL</th>\n",
       "      <th>VPICBODYCLASS</th>\n",
       "      <th>ICFINALBODY</th>\n",
       "    </tr>\n",
       "  </thead>\n",
       "  <tbody>\n",
       "    <tr>\n",
       "      <th>0</th>\n",
       "      <td>15939</td>\n",
       "      <td>14</td>\n",
       "      <td>1</td>\n",
       "      <td>1-14-2020-001-04</td>\n",
       "      <td>4</td>\n",
       "      <td>1</td>\n",
       "      <td>5N1DR2MNXHC6</td>\n",
       "      <td>17</td>\n",
       "      <td>35</td>\n",
       "      <td>401</td>\n",
       "      <td>...</td>\n",
       "      <td>99.8</td>\n",
       "      <td>99.8</td>\n",
       "      <td>99.8</td>\n",
       "      <td>207.684599</td>\n",
       "      <td>8</td>\n",
       "      <td>5</td>\n",
       "      <td>NaN</td>\n",
       "      <td>NaN</td>\n",
       "      <td>NaN</td>\n",
       "      <td>NaN</td>\n",
       "    </tr>\n",
       "    <tr>\n",
       "      <th>1</th>\n",
       "      <td>15939</td>\n",
       "      <td>14</td>\n",
       "      <td>1</td>\n",
       "      <td>1-14-2020-001-04</td>\n",
       "      <td>4</td>\n",
       "      <td>2</td>\n",
       "      <td>1GTEK19T12E1</td>\n",
       "      <td>17</td>\n",
       "      <td>23</td>\n",
       "      <td>481</td>\n",
       "      <td>...</td>\n",
       "      <td>99.8</td>\n",
       "      <td>99.8</td>\n",
       "      <td>99.8</td>\n",
       "      <td>207.684599</td>\n",
       "      <td>8</td>\n",
       "      <td>5</td>\n",
       "      <td>NaN</td>\n",
       "      <td>NaN</td>\n",
       "      <td>NaN</td>\n",
       "      <td>NaN</td>\n",
       "    </tr>\n",
       "    <tr>\n",
       "      <th>2</th>\n",
       "      <td>15939</td>\n",
       "      <td>14</td>\n",
       "      <td>1</td>\n",
       "      <td>1-14-2020-001-04</td>\n",
       "      <td>4</td>\n",
       "      <td>3</td>\n",
       "      <td>1YVHZ8DH3C5M</td>\n",
       "      <td>17</td>\n",
       "      <td>41</td>\n",
       "      <td>50</td>\n",
       "      <td>...</td>\n",
       "      <td>99.8</td>\n",
       "      <td>99.8</td>\n",
       "      <td>99.8</td>\n",
       "      <td>207.684599</td>\n",
       "      <td>8</td>\n",
       "      <td>5</td>\n",
       "      <td>NaN</td>\n",
       "      <td>NaN</td>\n",
       "      <td>NaN</td>\n",
       "      <td>NaN</td>\n",
       "    </tr>\n",
       "    <tr>\n",
       "      <th>3</th>\n",
       "      <td>15942</td>\n",
       "      <td>77</td>\n",
       "      <td>1</td>\n",
       "      <td>1-77-2020-001-04</td>\n",
       "      <td>4</td>\n",
       "      <td>1</td>\n",
       "      <td>5J6YH28593L0</td>\n",
       "      <td>17</td>\n",
       "      <td>37</td>\n",
       "      <td>403</td>\n",
       "      <td>...</td>\n",
       "      <td>3.2</td>\n",
       "      <td>1.7</td>\n",
       "      <td>3.5</td>\n",
       "      <td>316.720072</td>\n",
       "      <td>9</td>\n",
       "      <td>5</td>\n",
       "      <td>NaN</td>\n",
       "      <td>NaN</td>\n",
       "      <td>NaN</td>\n",
       "      <td>NaN</td>\n",
       "    </tr>\n",
       "    <tr>\n",
       "      <th>4</th>\n",
       "      <td>15942</td>\n",
       "      <td>77</td>\n",
       "      <td>1</td>\n",
       "      <td>1-77-2020-001-04</td>\n",
       "      <td>4</td>\n",
       "      <td>2</td>\n",
       "      <td>4T1B11HK9KU6</td>\n",
       "      <td>17</td>\n",
       "      <td>49</td>\n",
       "      <td>40</td>\n",
       "      <td>...</td>\n",
       "      <td>99.8</td>\n",
       "      <td>99.8</td>\n",
       "      <td>99.8</td>\n",
       "      <td>316.720072</td>\n",
       "      <td>9</td>\n",
       "      <td>5</td>\n",
       "      <td>NaN</td>\n",
       "      <td>NaN</td>\n",
       "      <td>NaN</td>\n",
       "      <td>NaN</td>\n",
       "    </tr>\n",
       "  </tbody>\n",
       "</table>\n",
       "<p>5 rows × 109 columns</p>\n",
       "</div>"
      ],
      "text/plain": [
       "   CASEID  PSU  CASENO        CASENUMBER  CATEGORY  VEHNO           VIN  \\\n",
       "0   15939   14       1  1-14-2020-001-04         4      1  5N1DR2MNXHC6   \n",
       "1   15939   14       1  1-14-2020-001-04         4      2  1GTEK19T12E1   \n",
       "2   15939   14       1  1-14-2020-001-04         4      3  1YVHZ8DH3C5M   \n",
       "3   15942   77       1  1-77-2020-001-04         4      1  5J6YH28593L0   \n",
       "4   15942   77       1  1-77-2020-001-04         4      2  4T1B11HK9KU6   \n",
       "\n",
       "   VINLENGTH  MAKE  MODEL  ...  EDGEDISTX  EDGEDISTY  EDGEDISTZ     CASEWGT  \\\n",
       "0         17    35    401  ...       99.8       99.8       99.8  207.684599   \n",
       "1         17    23    481  ...       99.8       99.8       99.8  207.684599   \n",
       "2         17    41     50  ...       99.8       99.8       99.8  207.684599   \n",
       "3         17    37    403  ...        3.2        1.7        3.5  316.720072   \n",
       "4         17    49     40  ...       99.8       99.8       99.8  316.720072   \n",
       "\n",
       "   PSUSTRAT  VERSION VPICMAKE  VPICMODEL  VPICBODYCLASS  ICFINALBODY  \n",
       "0         8        5      NaN        NaN            NaN          NaN  \n",
       "1         8        5      NaN        NaN            NaN          NaN  \n",
       "2         8        5      NaN        NaN            NaN          NaN  \n",
       "3         9        5      NaN        NaN            NaN          NaN  \n",
       "4         9        5      NaN        NaN            NaN          NaN  \n",
       "\n",
       "[5 rows x 109 columns]"
      ]
     },
     "execution_count": 17,
     "metadata": {},
     "output_type": "execute_result"
    }
   ],
   "source": [
    "dfgv.head()"
   ]
  },
  {
   "cell_type": "code",
   "execution_count": 18,
   "id": "5a039254-9cc6-48f6-84a1-7f017baf9ac8",
   "metadata": {},
   "outputs": [],
   "source": [
    "#dfc1 = dfgv[dfgv['CASEID', 'VEHNO', 'CAIS', 'DAYOFWEEK', 'MANCOLL']]"
   ]
  },
  {
   "cell_type": "code",
   "execution_count": 19,
   "id": "f2dbfa9d-5d92-4e3d-95a1-07b9f7d4d5c0",
   "metadata": {},
   "outputs": [],
   "source": [
    "#dfgv1 = dfgv[dfgv['CASEID', 'VEHNO', 'CRASHCONF', 'RELTOJUNC', 'WEATHER', 'SURFCOND', 'SURFTYPE']]"
   ]
  },
  {
   "cell_type": "code",
   "execution_count": 20,
   "id": "b6858abe-b82f-41d0-b600-fafd3c9a7271",
   "metadata": {
    "tags": []
   },
   "outputs": [],
   "source": [
    "dfgv1 = dfgv[['CASEID', 'VEHNO', 'VAIS']]"
   ]
  },
  {
   "cell_type": "code",
   "execution_count": 21,
   "id": "077873be-cb40-4ab2-82cb-6eb7dd6e6de5",
   "metadata": {},
   "outputs": [],
   "source": [
    "dfc1 = dfcrash[['CASEID', 'CAIS', 'MANCOLL']]"
   ]
  },
  {
   "cell_type": "code",
   "execution_count": 22,
   "id": "bd4efb3e-a440-42da-b1d8-325e886969b0",
   "metadata": {
    "tags": []
   },
   "outputs": [
    {
     "data": {
      "text/html": [
       "<div>\n",
       "<style scoped>\n",
       "    .dataframe tbody tr th:only-of-type {\n",
       "        vertical-align: middle;\n",
       "    }\n",
       "\n",
       "    .dataframe tbody tr th {\n",
       "        vertical-align: top;\n",
       "    }\n",
       "\n",
       "    .dataframe thead th {\n",
       "        text-align: right;\n",
       "    }\n",
       "</style>\n",
       "<table border=\"1\" class=\"dataframe\">\n",
       "  <thead>\n",
       "    <tr style=\"text-align: right;\">\n",
       "      <th></th>\n",
       "      <th>CASEID</th>\n",
       "      <th>VEHNO</th>\n",
       "      <th>VehicleType</th>\n",
       "      <th>ADAS</th>\n",
       "      <th>VAIS</th>\n",
       "    </tr>\n",
       "  </thead>\n",
       "  <tbody>\n",
       "    <tr>\n",
       "      <th>0</th>\n",
       "      <td>16035</td>\n",
       "      <td>1</td>\n",
       "      <td>MULTIPURPOSE PASSENGER VEHICLE (MPV)</td>\n",
       "      <td>0</td>\n",
       "      <td>0</td>\n",
       "    </tr>\n",
       "    <tr>\n",
       "      <th>1</th>\n",
       "      <td>16035</td>\n",
       "      <td>2</td>\n",
       "      <td>TRUCK</td>\n",
       "      <td>0</td>\n",
       "      <td>0</td>\n",
       "    </tr>\n",
       "    <tr>\n",
       "      <th>2</th>\n",
       "      <td>16037</td>\n",
       "      <td>1</td>\n",
       "      <td>TRUCK</td>\n",
       "      <td>0</td>\n",
       "      <td>0</td>\n",
       "    </tr>\n",
       "    <tr>\n",
       "      <th>3</th>\n",
       "      <td>16038</td>\n",
       "      <td>1</td>\n",
       "      <td>PASSENGER CAR</td>\n",
       "      <td>0</td>\n",
       "      <td>95</td>\n",
       "    </tr>\n",
       "    <tr>\n",
       "      <th>4</th>\n",
       "      <td>16038</td>\n",
       "      <td>2</td>\n",
       "      <td>PASSENGER CAR</td>\n",
       "      <td>0</td>\n",
       "      <td>99</td>\n",
       "    </tr>\n",
       "  </tbody>\n",
       "</table>\n",
       "</div>"
      ],
      "text/plain": [
       "   CASEID  VEHNO                           VehicleType  ADAS  VAIS\n",
       "0   16035      1  MULTIPURPOSE PASSENGER VEHICLE (MPV)     0     0\n",
       "1   16035      2                                 TRUCK     0     0\n",
       "2   16037      1                                 TRUCK     0     0\n",
       "3   16038      1                         PASSENGER CAR     0    95\n",
       "4   16038      2                         PASSENGER CAR     0    99"
      ]
     },
     "execution_count": 22,
     "metadata": {},
     "output_type": "execute_result"
    }
   ],
   "source": [
    "# Perform an inner merge on 'CASEID' and 'VEHNO'\n",
    "df = pd.merge(full_adas, dfgv1, how=\"inner\", on=['CASEID', 'VEHNO'])\n",
    "\n",
    "df.head()"
   ]
  },
  {
   "cell_type": "code",
   "execution_count": 23,
   "id": "20047727-d80b-4f8b-8601-5e7c641a6450",
   "metadata": {
    "tags": []
   },
   "outputs": [
    {
     "name": "stdout",
     "output_type": "stream",
     "text": [
      "Frequency of VAIS categories when ADAS is 1:\n",
      "VAIS\n",
      "0     1455\n",
      "1     1032\n",
      "95     625\n",
      "9      382\n",
      "99     375\n",
      "2      329\n",
      "3      191\n",
      "4       42\n",
      "5       26\n",
      "6       15\n",
      "Name: count, dtype: int64\n",
      "\n",
      "Frequency of VAIS categories when ADAS is 0:\n",
      "VAIS\n",
      "0     3925\n",
      "95    2806\n",
      "1     2118\n",
      "99    1181\n",
      "9     1106\n",
      "2      703\n",
      "3      548\n",
      "4      151\n",
      "5      100\n",
      "6       72\n",
      "Name: count, dtype: int64\n"
     ]
    }
   ],
   "source": [
    "# Filter rows where ADAS is 1\n",
    "vais_adas_1 = df[df['ADAS'] == 1]['VAIS']\n",
    "\n",
    "# Filter rows where ADAS is 0\n",
    "vais_adas_0 = df[df['ADAS'] == 0]['VAIS']\n",
    "\n",
    "# Count frequency of each VAIS category for ADAS = 1\n",
    "vais_adas_1_counts = vais_adas_1.value_counts()\n",
    "\n",
    "# Count frequency of each VAIS category for ADAS = 0\n",
    "vais_adas_0_counts = vais_adas_0.value_counts()\n",
    "\n",
    "# Display frequency counts for VAIS when ADAS is 1\n",
    "print(\"Frequency of VAIS categories when ADAS is 1:\")\n",
    "print(vais_adas_1_counts)\n",
    "\n",
    "# Display frequency counts for VAIS when ADAS is 0\n",
    "print(\"\\nFrequency of VAIS categories when ADAS is 0:\")\n",
    "print(vais_adas_0_counts)\n"
   ]
  },
  {
   "cell_type": "code",
   "execution_count": 24,
   "id": "d0be83e6-6de7-4e1a-b778-319d73b97203",
   "metadata": {},
   "outputs": [
    {
     "data": {
      "text/html": [
       "<div>\n",
       "<style scoped>\n",
       "    .dataframe tbody tr th:only-of-type {\n",
       "        vertical-align: middle;\n",
       "    }\n",
       "\n",
       "    .dataframe tbody tr th {\n",
       "        vertical-align: top;\n",
       "    }\n",
       "\n",
       "    .dataframe thead th {\n",
       "        text-align: right;\n",
       "    }\n",
       "</style>\n",
       "<table border=\"1\" class=\"dataframe\">\n",
       "  <thead>\n",
       "    <tr style=\"text-align: right;\">\n",
       "      <th></th>\n",
       "      <th>CASEID</th>\n",
       "      <th>VEHNO</th>\n",
       "      <th>VehicleType</th>\n",
       "      <th>ADAS</th>\n",
       "      <th>VAIS</th>\n",
       "    </tr>\n",
       "  </thead>\n",
       "  <tbody>\n",
       "    <tr>\n",
       "      <th>0</th>\n",
       "      <td>16035</td>\n",
       "      <td>1</td>\n",
       "      <td>MULTIPURPOSE PASSENGER VEHICLE (MPV)</td>\n",
       "      <td>0</td>\n",
       "      <td>0</td>\n",
       "    </tr>\n",
       "    <tr>\n",
       "      <th>1</th>\n",
       "      <td>16035</td>\n",
       "      <td>2</td>\n",
       "      <td>TRUCK</td>\n",
       "      <td>0</td>\n",
       "      <td>0</td>\n",
       "    </tr>\n",
       "    <tr>\n",
       "      <th>2</th>\n",
       "      <td>16037</td>\n",
       "      <td>1</td>\n",
       "      <td>TRUCK</td>\n",
       "      <td>0</td>\n",
       "      <td>0</td>\n",
       "    </tr>\n",
       "    <tr>\n",
       "      <th>5</th>\n",
       "      <td>16048</td>\n",
       "      <td>1</td>\n",
       "      <td>PASSENGER CAR</td>\n",
       "      <td>0</td>\n",
       "      <td>2</td>\n",
       "    </tr>\n",
       "    <tr>\n",
       "      <th>6</th>\n",
       "      <td>16052</td>\n",
       "      <td>1</td>\n",
       "      <td>PASSENGER CAR</td>\n",
       "      <td>0</td>\n",
       "      <td>1</td>\n",
       "    </tr>\n",
       "  </tbody>\n",
       "</table>\n",
       "</div>"
      ],
      "text/plain": [
       "   CASEID  VEHNO                           VehicleType  ADAS  VAIS\n",
       "0   16035      1  MULTIPURPOSE PASSENGER VEHICLE (MPV)     0     0\n",
       "1   16035      2                                 TRUCK     0     0\n",
       "2   16037      1                                 TRUCK     0     0\n",
       "5   16048      1                         PASSENGER CAR     0     2\n",
       "6   16052      1                         PASSENGER CAR     0     1"
      ]
     },
     "execution_count": 24,
     "metadata": {},
     "output_type": "execute_result"
    }
   ],
   "source": [
    "# Remove rows where VAIS > 95\n",
    "df = df[df['VAIS'] <= 10]\n",
    "\n",
    "# Display the first few rows of the updated DataFrame\n",
    "df.head()"
   ]
  },
  {
   "cell_type": "code",
   "execution_count": 25,
   "id": "92539925-8d2a-4837-8f98-292739a3ae41",
   "metadata": {},
   "outputs": [
    {
     "data": {
      "text/plain": [
       "(12195, 5)"
      ]
     },
     "execution_count": 25,
     "metadata": {},
     "output_type": "execute_result"
    }
   ],
   "source": [
    "df.shape"
   ]
  },
  {
   "cell_type": "code",
   "execution_count": null,
   "id": "c3d41099-5784-49f4-bcea-3b9a954540f7",
   "metadata": {},
   "outputs": [],
   "source": []
  },
  {
   "cell_type": "code",
   "execution_count": 26,
   "id": "02f05c54-5fce-4bd3-a7b0-1c84abf1db7f",
   "metadata": {},
   "outputs": [
    {
     "data": {
      "image/png": "[encoded data removed]",
      "text/plain": [
       "<Figure size 640x480 with 1 Axes>"
      ]
     },
     "metadata": {},
     "output_type": "display_data"
    },
    {
     "name": "stdout",
     "output_type": "stream",
     "text": [
      "ADAS group normality test: ShapiroResult(statistic=0.6273257732391357, pvalue=0.0)\n",
      "No ADAS group normality test: ShapiroResult(statistic=0.6496928930282593, pvalue=0.0)\n"
     ]
    },
    {
     "name": "stderr",
     "output_type": "stream",
     "text": [
      "C:\\Users\\inusa\\anaconda3\\Lib\\site-packages\\scipy\\stats\\_morestats.py:1882: UserWarning: p-value may not be accurate for N > 5000.\n",
      "  warnings.warn(\"p-value may not be accurate for N > 5000.\")\n"
     ]
    }
   ],
   "source": [
    "import scipy.stats as stats\n",
    "import matplotlib.pyplot as plt\n",
    "\n",
    "# Filter VAIS values into two groups: with ADAS and without ADAS\n",
    "vais_adas = df[df['ADAS'] == 1]['VAIS']\n",
    "vais_no_adas = df[df['ADAS'] == 0]['VAIS']\n",
    "\n",
    "# Plot histograms for both groups\n",
    "plt.hist(vais_adas, bins=20, alpha=0.7, label='ADAS')\n",
    "plt.hist(vais_no_adas, bins=20, alpha=0.7, label='No ADAS')\n",
    "plt.legend()\n",
    "plt.title(\"Distribution of VAIS with and without ADAS\")\n",
    "plt.show()\n",
    "\n",
    "# Perform Shapiro-Wilk test for normality\n",
    "print(\"ADAS group normality test:\", stats.shapiro(vais_adas))\n",
    "print(\"No ADAS group normality test:\", stats.shapiro(vais_no_adas))\n"
   ]
  },
  {
   "cell_type": "code",
   "execution_count": 27,
   "id": "5f597ad9-a4d3-4422-9b0e-c1e90a4eb0ad",
   "metadata": {},
   "outputs": [
    {
     "name": "stdout",
     "output_type": "stream",
     "text": [
      "Mann-Whitney U Test Results:\n",
      "U-statistic = 15182580.0, P-value = 0.812044495130726\n",
      "The presence of ADAS does not have a statistically significant effect on VAIS.\n"
     ]
    }
   ],
   "source": [
    "from scipy.stats import mannwhitneyu\n",
    "\n",
    "# Perform the Mann-Whitney U Test\n",
    "u_stat, p_value = mannwhitneyu(vais_adas, vais_no_adas)\n",
    "\n",
    "print(\"Mann-Whitney U Test Results:\")\n",
    "print(f\"U-statistic = {u_stat}, P-value = {p_value}\")\n",
    "\n",
    "# Interpretation\n",
    "if p_value < 0.05:\n",
    "    print(\"The presence of ADAS has a statistically significant effect on VAIS.\")\n",
    "else:\n",
    "    print(\"The presence of ADAS does not have a statistically significant effect on VAIS.\")\n"
   ]
  },
  {
   "cell_type": "code",
   "execution_count": 28,
   "id": "2c994e93-a7d4-4f05-8e1c-c55cc637e818",
   "metadata": {},
   "outputs": [
    {
     "data": {
      "text/html": [
       "<div>\n",
       "<style scoped>\n",
       "    .dataframe tbody tr th:only-of-type {\n",
       "        vertical-align: middle;\n",
       "    }\n",
       "\n",
       "    .dataframe tbody tr th {\n",
       "        vertical-align: top;\n",
       "    }\n",
       "\n",
       "    .dataframe thead th {\n",
       "        text-align: right;\n",
       "    }\n",
       "</style>\n",
       "<table border=\"1\" class=\"dataframe\">\n",
       "  <thead>\n",
       "    <tr style=\"text-align: right;\">\n",
       "      <th></th>\n",
       "      <th>CASEID</th>\n",
       "      <th>VEHNO</th>\n",
       "      <th>VehicleType</th>\n",
       "      <th>ADAS</th>\n",
       "      <th>CAIS</th>\n",
       "      <th>MANCOLL</th>\n",
       "    </tr>\n",
       "  </thead>\n",
       "  <tbody>\n",
       "    <tr>\n",
       "      <th>0</th>\n",
       "      <td>16035</td>\n",
       "      <td>1</td>\n",
       "      <td>MULTIPURPOSE PASSENGER VEHICLE (MPV)</td>\n",
       "      <td>0</td>\n",
       "      <td>0</td>\n",
       "      <td>4</td>\n",
       "    </tr>\n",
       "    <tr>\n",
       "      <th>1</th>\n",
       "      <td>16035</td>\n",
       "      <td>2</td>\n",
       "      <td>TRUCK</td>\n",
       "      <td>0</td>\n",
       "      <td>0</td>\n",
       "      <td>4</td>\n",
       "    </tr>\n",
       "    <tr>\n",
       "      <th>2</th>\n",
       "      <td>16037</td>\n",
       "      <td>1</td>\n",
       "      <td>TRUCK</td>\n",
       "      <td>0</td>\n",
       "      <td>0</td>\n",
       "      <td>0</td>\n",
       "    </tr>\n",
       "    <tr>\n",
       "      <th>3</th>\n",
       "      <td>16038</td>\n",
       "      <td>1</td>\n",
       "      <td>PASSENGER CAR</td>\n",
       "      <td>0</td>\n",
       "      <td>99</td>\n",
       "      <td>1</td>\n",
       "    </tr>\n",
       "    <tr>\n",
       "      <th>4</th>\n",
       "      <td>16038</td>\n",
       "      <td>2</td>\n",
       "      <td>PASSENGER CAR</td>\n",
       "      <td>0</td>\n",
       "      <td>99</td>\n",
       "      <td>1</td>\n",
       "    </tr>\n",
       "  </tbody>\n",
       "</table>\n",
       "</div>"
      ],
      "text/plain": [
       "   CASEID  VEHNO                           VehicleType  ADAS  CAIS  MANCOLL\n",
       "0   16035      1  MULTIPURPOSE PASSENGER VEHICLE (MPV)     0     0        4\n",
       "1   16035      2                                 TRUCK     0     0        4\n",
       "2   16037      1                                 TRUCK     0     0        0\n",
       "3   16038      1                         PASSENGER CAR     0    99        1\n",
       "4   16038      2                         PASSENGER CAR     0    99        1"
      ]
     },
     "execution_count": 28,
     "metadata": {},
     "output_type": "execute_result"
    }
   ],
   "source": [
    "# Perform an inner merge on 'CASEID'\n",
    "df = pd.merge(full_adas, dfc1, how=\"inner\", on=['CASEID'])\n",
    "\n",
    "df.head()"
   ]
  },
  {
   "cell_type": "code",
   "execution_count": 29,
   "id": "78a1c1b5-18b6-4d5c-8021-98a5b6e3ad8e",
   "metadata": {},
   "outputs": [
    {
     "data": {
      "text/plain": [
       "(17182, 6)"
      ]
     },
     "execution_count": 29,
     "metadata": {},
     "output_type": "execute_result"
    }
   ],
   "source": [
    "df.shape"
   ]
  },
  {
   "cell_type": "code",
   "execution_count": 30,
   "id": "9fb5a6c6-f524-4895-9954-f8bcbe0b1db8",
   "metadata": {},
   "outputs": [
    {
     "data": {
      "text/html": [
       "<div>\n",
       "<style scoped>\n",
       "    .dataframe tbody tr th:only-of-type {\n",
       "        vertical-align: middle;\n",
       "    }\n",
       "\n",
       "    .dataframe tbody tr th {\n",
       "        vertical-align: top;\n",
       "    }\n",
       "\n",
       "    .dataframe thead th {\n",
       "        text-align: right;\n",
       "    }\n",
       "</style>\n",
       "<table border=\"1\" class=\"dataframe\">\n",
       "  <thead>\n",
       "    <tr style=\"text-align: right;\">\n",
       "      <th></th>\n",
       "      <th>CASEID</th>\n",
       "      <th>VEHNO</th>\n",
       "      <th>VehicleType</th>\n",
       "      <th>ADAS</th>\n",
       "      <th>CAIS</th>\n",
       "      <th>MANCOLL</th>\n",
       "    </tr>\n",
       "  </thead>\n",
       "  <tbody>\n",
       "    <tr>\n",
       "      <th>0</th>\n",
       "      <td>16035</td>\n",
       "      <td>1</td>\n",
       "      <td>MULTIPURPOSE PASSENGER VEHICLE (MPV)</td>\n",
       "      <td>0</td>\n",
       "      <td>0</td>\n",
       "      <td>4</td>\n",
       "    </tr>\n",
       "    <tr>\n",
       "      <th>2</th>\n",
       "      <td>16037</td>\n",
       "      <td>1</td>\n",
       "      <td>TRUCK</td>\n",
       "      <td>0</td>\n",
       "      <td>0</td>\n",
       "      <td>0</td>\n",
       "    </tr>\n",
       "    <tr>\n",
       "      <th>3</th>\n",
       "      <td>16038</td>\n",
       "      <td>1</td>\n",
       "      <td>PASSENGER CAR</td>\n",
       "      <td>0</td>\n",
       "      <td>99</td>\n",
       "      <td>1</td>\n",
       "    </tr>\n",
       "    <tr>\n",
       "      <th>5</th>\n",
       "      <td>16048</td>\n",
       "      <td>1</td>\n",
       "      <td>PASSENGER CAR</td>\n",
       "      <td>0</td>\n",
       "      <td>2</td>\n",
       "      <td>0</td>\n",
       "    </tr>\n",
       "    <tr>\n",
       "      <th>6</th>\n",
       "      <td>16052</td>\n",
       "      <td>1</td>\n",
       "      <td>PASSENGER CAR</td>\n",
       "      <td>0</td>\n",
       "      <td>1</td>\n",
       "      <td>0</td>\n",
       "    </tr>\n",
       "  </tbody>\n",
       "</table>\n",
       "</div>"
      ],
      "text/plain": [
       "   CASEID  VEHNO                           VehicleType  ADAS  CAIS  MANCOLL\n",
       "0   16035      1  MULTIPURPOSE PASSENGER VEHICLE (MPV)     0     0        4\n",
       "2   16037      1                                 TRUCK     0     0        0\n",
       "3   16038      1                         PASSENGER CAR     0    99        1\n",
       "5   16048      1                         PASSENGER CAR     0     2        0\n",
       "6   16052      1                         PASSENGER CAR     0     1        0"
      ]
     },
     "execution_count": 30,
     "metadata": {},
     "output_type": "execute_result"
    }
   ],
   "source": [
    "# Perform an inner merge on 'CASEID'\n",
    "df = pd.merge(full_adas, dfc1, how=\"inner\", on=['CASEID'])\n",
    "\n",
    "# Select only the first instance of each CASEID\n",
    "df = df.drop_duplicates(subset=['CASEID'])\n",
    "\n",
    "# Display the result\n",
    "df.head()"
   ]
  },
  {
   "cell_type": "code",
   "execution_count": 31,
   "id": "d2fc9cca-3b97-41f8-aa93-74e4fdee9662",
   "metadata": {},
   "outputs": [
    {
     "data": {
      "text/plain": [
       "(9939, 6)"
      ]
     },
     "execution_count": 31,
     "metadata": {},
     "output_type": "execute_result"
    }
   ],
   "source": [
    "df.shape"
   ]
  },
  {
   "cell_type": "code",
   "execution_count": 32,
   "id": "f68ced51-33d0-4dfd-90ea-1296d7eccb1e",
   "metadata": {},
   "outputs": [
    {
     "name": "stdout",
     "output_type": "stream",
     "text": [
      "Frequency of MANCOLL categories when ADAS is 1:\n",
      "MANCOLL\n",
      "0    1110\n",
      "4     837\n",
      "1     440\n",
      "5     102\n",
      "2      69\n",
      "9      41\n",
      "6      34\n",
      "Name: count, dtype: int64\n",
      "\n",
      "Frequency of MANCOLL categories when ADAS is 0:\n",
      "MANCOLL\n",
      "0    2923\n",
      "4    2335\n",
      "1    1224\n",
      "2     298\n",
      "5     272\n",
      "6     131\n",
      "9     123\n",
      "Name: count, dtype: int64\n"
     ]
    }
   ],
   "source": [
    "# Filter rows where ADAS is 1\n",
    "mancoll_adas_1 = df[df['ADAS'] == 1]['MANCOLL']\n",
    "\n",
    "# Filter rows where ADAS is 0\n",
    "mancoll_adas_0 = df[df['ADAS'] == 0]['MANCOLL']\n",
    "\n",
    "# Count frequency of each MANCOLLcategory for ADAS = 1\n",
    "mancoll_adas_1_counts = mancoll_adas_1.value_counts()\n",
    "\n",
    "# Count frequency of each MANCOLLcategory for ADAS = 0\n",
    "mancoll_adas_0_counts = mancoll_adas_0.value_counts()\n",
    "\n",
    "# Display frequency counts for VAIS when ADAS is 1\n",
    "print(\"Frequency of MANCOLL categories when ADAS is 1:\")\n",
    "print(mancoll_adas_1_counts)\n",
    "\n",
    "# Display frequency counts for VAIS when ADAS is 0\n",
    "print(\"\\nFrequency of MANCOLL categories when ADAS is 0:\")\n",
    "print(mancoll_adas_0_counts)\n"
   ]
  },
  {
   "cell_type": "code",
   "execution_count": null,
   "id": "607c0286-c4fc-4f28-85ed-2e45d3be7c23",
   "metadata": {},
   "outputs": [],
   "source": []
  }
 ],
 "metadata": {
  "kernelspec": {
   "display_name": "Python 3 (ipykernel)",
   "language": "python",
   "name": "python3"
  },
  "language_info": {
   "codemirror_mode": {
    "name": "ipython",
    "version": 3
   },
   "file_extension": ".py",
   "mimetype": "text/x-python",
   "name": "python",
   "nbconvert_exporter": "python",
   "pygments_lexer": "ipython3",
   "version": "3.11.7"
  }
 },
 "nbformat": 4,
 "nbformat_minor": 5
}
